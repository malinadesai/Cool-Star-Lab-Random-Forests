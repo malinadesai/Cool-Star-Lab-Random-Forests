{
 "cells": [
  {
   "cell_type": "code",
   "execution_count": 1,
   "id": "c950b771",
   "metadata": {},
   "outputs": [
    {
     "name": "stdout",
     "output_type": "stream",
     "text": [
      "\n",
      "\n",
      "Welcome to the Spex Prism Library Analysis Toolkit (SPLAT)!\n",
      "If you make use of any features of this toolkit for your research, please remember to cite the SPLAT paper:\n",
      "\n",
      "Burgasser et al. (2017, Astro. Soc. India Conf. Series 14, p. 7); Bibcode: 2017ASInC..14....7B\n",
      "\n",
      "If you make use of any spectra or models in this toolkit, please remember to cite the original source.\n",
      "Please report any errors are feature requests to our github page, https://github.com/aburgasser/splat/\n",
      "\n",
      "\n"
     ]
    }
   ],
   "source": [
    "import h5py\n",
    "import random\n",
    "import numpy as np\n",
    "import matplotlib.pyplot as plt\n",
    "import sklearn\n",
    "from sklearn.ensemble import RandomForestClassifier\n",
    "from sklearn.metrics import confusion_matrix, accuracy_score, precision_score, classification_report\n",
    "from sklearn.preprocessing import MinMaxScaler, StandardScaler\n",
    "from sklearn.model_selection import train_test_split, KFold,RepeatedKFold, GridSearchCV,  RandomizedSearchCV\n",
    "import math\n",
    "\n",
    "import seaborn as sns\n",
    "import pandas as pd\n",
    "from itertools import islice\n",
    "\n",
    "import splat\n",
    "import splat.plot as splot\n",
    "import splat.photometry as sphot\n",
    "import splat.empirical as spem"
   ]
  },
  {
   "cell_type": "code",
   "execution_count": 2,
   "id": "8c082dad",
   "metadata": {},
   "outputs": [
    {
     "data": {
      "text/html": [
       "<div>\n",
       "<style scoped>\n",
       "    .dataframe tbody tr th:only-of-type {\n",
       "        vertical-align: middle;\n",
       "    }\n",
       "\n",
       "    .dataframe tbody tr th {\n",
       "        vertical-align: top;\n",
       "    }\n",
       "\n",
       "    .dataframe thead th {\n",
       "        text-align: right;\n",
       "    }\n",
       "</style>\n",
       "<table border=\"1\" class=\"dataframe\">\n",
       "  <thead>\n",
       "    <tr style=\"text-align: right;\">\n",
       "      <th></th>\n",
       "      <th>flux_0</th>\n",
       "      <th>flux_1</th>\n",
       "      <th>flux_2</th>\n",
       "      <th>flux_3</th>\n",
       "      <th>flux_4</th>\n",
       "      <th>flux_5</th>\n",
       "      <th>flux_6</th>\n",
       "      <th>flux_7</th>\n",
       "      <th>flux_8</th>\n",
       "      <th>flux_9</th>\n",
       "      <th>...</th>\n",
       "      <th>flux_434</th>\n",
       "      <th>flux_435</th>\n",
       "      <th>flux_436</th>\n",
       "      <th>flux_437</th>\n",
       "      <th>flux_438</th>\n",
       "      <th>flux_439</th>\n",
       "      <th>flux_440</th>\n",
       "      <th>primary_type</th>\n",
       "      <th>secondary_type</th>\n",
       "      <th>system_type</th>\n",
       "    </tr>\n",
       "  </thead>\n",
       "  <tbody>\n",
       "    <tr>\n",
       "      <th>0</th>\n",
       "      <td>0.568345</td>\n",
       "      <td>0.615487</td>\n",
       "      <td>0.668477</td>\n",
       "      <td>0.705189</td>\n",
       "      <td>0.698754</td>\n",
       "      <td>0.700950</td>\n",
       "      <td>0.717146</td>\n",
       "      <td>0.704941</td>\n",
       "      <td>0.707754</td>\n",
       "      <td>0.723033</td>\n",
       "      <td>...</td>\n",
       "      <td>0.209508</td>\n",
       "      <td>0.203912</td>\n",
       "      <td>0.205196</td>\n",
       "      <td>0.201559</td>\n",
       "      <td>0.207766</td>\n",
       "      <td>0.209226</td>\n",
       "      <td>0.214793</td>\n",
       "      <td>16.0</td>\n",
       "      <td>16.0</td>\n",
       "      <td>16.0</td>\n",
       "    </tr>\n",
       "    <tr>\n",
       "      <th>1</th>\n",
       "      <td>0.496365</td>\n",
       "      <td>0.563067</td>\n",
       "      <td>0.602393</td>\n",
       "      <td>0.659527</td>\n",
       "      <td>0.682808</td>\n",
       "      <td>0.676481</td>\n",
       "      <td>0.674343</td>\n",
       "      <td>0.689054</td>\n",
       "      <td>0.676825</td>\n",
       "      <td>0.670386</td>\n",
       "      <td>...</td>\n",
       "      <td>0.213932</td>\n",
       "      <td>0.207528</td>\n",
       "      <td>0.206223</td>\n",
       "      <td>0.201853</td>\n",
       "      <td>0.205284</td>\n",
       "      <td>0.206424</td>\n",
       "      <td>0.206224</td>\n",
       "      <td>16.0</td>\n",
       "      <td>17.0</td>\n",
       "      <td>16.0</td>\n",
       "    </tr>\n",
       "    <tr>\n",
       "      <th>2</th>\n",
       "      <td>0.520227</td>\n",
       "      <td>0.580531</td>\n",
       "      <td>0.627045</td>\n",
       "      <td>0.645281</td>\n",
       "      <td>0.665795</td>\n",
       "      <td>0.678923</td>\n",
       "      <td>0.686509</td>\n",
       "      <td>0.685623</td>\n",
       "      <td>0.674414</td>\n",
       "      <td>0.702066</td>\n",
       "      <td>...</td>\n",
       "      <td>0.187648</td>\n",
       "      <td>0.184240</td>\n",
       "      <td>0.177598</td>\n",
       "      <td>0.175445</td>\n",
       "      <td>0.175319</td>\n",
       "      <td>0.181286</td>\n",
       "      <td>0.176042</td>\n",
       "      <td>16.0</td>\n",
       "      <td>16.0</td>\n",
       "      <td>16.0</td>\n",
       "    </tr>\n",
       "    <tr>\n",
       "      <th>3</th>\n",
       "      <td>0.483774</td>\n",
       "      <td>0.556865</td>\n",
       "      <td>0.603915</td>\n",
       "      <td>0.641451</td>\n",
       "      <td>0.698212</td>\n",
       "      <td>0.728678</td>\n",
       "      <td>0.666010</td>\n",
       "      <td>0.671234</td>\n",
       "      <td>0.659358</td>\n",
       "      <td>0.688617</td>\n",
       "      <td>...</td>\n",
       "      <td>0.233598</td>\n",
       "      <td>0.225866</td>\n",
       "      <td>0.234960</td>\n",
       "      <td>0.214639</td>\n",
       "      <td>0.219380</td>\n",
       "      <td>0.224144</td>\n",
       "      <td>0.224282</td>\n",
       "      <td>16.0</td>\n",
       "      <td>16.0</td>\n",
       "      <td>16.0</td>\n",
       "    </tr>\n",
       "    <tr>\n",
       "      <th>4</th>\n",
       "      <td>0.434787</td>\n",
       "      <td>0.504214</td>\n",
       "      <td>0.543165</td>\n",
       "      <td>0.611378</td>\n",
       "      <td>0.659270</td>\n",
       "      <td>0.680497</td>\n",
       "      <td>0.663214</td>\n",
       "      <td>0.634306</td>\n",
       "      <td>0.645955</td>\n",
       "      <td>0.654454</td>\n",
       "      <td>...</td>\n",
       "      <td>0.218515</td>\n",
       "      <td>0.209248</td>\n",
       "      <td>0.202981</td>\n",
       "      <td>0.198711</td>\n",
       "      <td>0.201315</td>\n",
       "      <td>0.201008</td>\n",
       "      <td>0.202865</td>\n",
       "      <td>16.0</td>\n",
       "      <td>16.0</td>\n",
       "      <td>16.0</td>\n",
       "    </tr>\n",
       "    <tr>\n",
       "      <th>...</th>\n",
       "      <td>...</td>\n",
       "      <td>...</td>\n",
       "      <td>...</td>\n",
       "      <td>...</td>\n",
       "      <td>...</td>\n",
       "      <td>...</td>\n",
       "      <td>...</td>\n",
       "      <td>...</td>\n",
       "      <td>...</td>\n",
       "      <td>...</td>\n",
       "      <td>...</td>\n",
       "      <td>...</td>\n",
       "      <td>...</td>\n",
       "      <td>...</td>\n",
       "      <td>...</td>\n",
       "      <td>...</td>\n",
       "      <td>...</td>\n",
       "      <td>...</td>\n",
       "      <td>...</td>\n",
       "      <td>...</td>\n",
       "      <td>...</td>\n",
       "    </tr>\n",
       "    <tr>\n",
       "      <th>110809</th>\n",
       "      <td>0.030098</td>\n",
       "      <td>0.014580</td>\n",
       "      <td>-0.007441</td>\n",
       "      <td>-0.006942</td>\n",
       "      <td>-0.007369</td>\n",
       "      <td>0.006425</td>\n",
       "      <td>0.016458</td>\n",
       "      <td>0.006826</td>\n",
       "      <td>-0.001549</td>\n",
       "      <td>0.020413</td>\n",
       "      <td>...</td>\n",
       "      <td>-0.000636</td>\n",
       "      <td>-0.005062</td>\n",
       "      <td>-0.001746</td>\n",
       "      <td>0.002502</td>\n",
       "      <td>0.002527</td>\n",
       "      <td>0.002917</td>\n",
       "      <td>0.003646</td>\n",
       "      <td>38.0</td>\n",
       "      <td>38.0</td>\n",
       "      <td>38.0</td>\n",
       "    </tr>\n",
       "    <tr>\n",
       "      <th>110810</th>\n",
       "      <td>0.005596</td>\n",
       "      <td>0.004737</td>\n",
       "      <td>-0.002069</td>\n",
       "      <td>0.010406</td>\n",
       "      <td>0.006171</td>\n",
       "      <td>0.009747</td>\n",
       "      <td>0.011305</td>\n",
       "      <td>0.008200</td>\n",
       "      <td>0.004347</td>\n",
       "      <td>0.014751</td>\n",
       "      <td>...</td>\n",
       "      <td>-0.001543</td>\n",
       "      <td>-0.004403</td>\n",
       "      <td>0.001089</td>\n",
       "      <td>0.004393</td>\n",
       "      <td>0.004432</td>\n",
       "      <td>0.004561</td>\n",
       "      <td>-0.000681</td>\n",
       "      <td>38.0</td>\n",
       "      <td>39.0</td>\n",
       "      <td>38.0</td>\n",
       "    </tr>\n",
       "    <tr>\n",
       "      <th>110848</th>\n",
       "      <td>0.073538</td>\n",
       "      <td>0.009197</td>\n",
       "      <td>-0.005860</td>\n",
       "      <td>-0.038976</td>\n",
       "      <td>-0.014792</td>\n",
       "      <td>-0.014072</td>\n",
       "      <td>0.036644</td>\n",
       "      <td>-0.001032</td>\n",
       "      <td>-0.009587</td>\n",
       "      <td>0.015874</td>\n",
       "      <td>...</td>\n",
       "      <td>0.003452</td>\n",
       "      <td>-0.007673</td>\n",
       "      <td>-0.005274</td>\n",
       "      <td>0.000802</td>\n",
       "      <td>0.001512</td>\n",
       "      <td>0.001638</td>\n",
       "      <td>0.005702</td>\n",
       "      <td>38.0</td>\n",
       "      <td>38.0</td>\n",
       "      <td>38.0</td>\n",
       "    </tr>\n",
       "    <tr>\n",
       "      <th>110849</th>\n",
       "      <td>0.001377</td>\n",
       "      <td>-0.014757</td>\n",
       "      <td>-0.004499</td>\n",
       "      <td>0.012407</td>\n",
       "      <td>-0.003643</td>\n",
       "      <td>-0.001074</td>\n",
       "      <td>0.012893</td>\n",
       "      <td>-0.004316</td>\n",
       "      <td>0.009678</td>\n",
       "      <td>-0.000535</td>\n",
       "      <td>...</td>\n",
       "      <td>-0.000068</td>\n",
       "      <td>-0.007200</td>\n",
       "      <td>0.002112</td>\n",
       "      <td>0.005037</td>\n",
       "      <td>0.006211</td>\n",
       "      <td>0.005238</td>\n",
       "      <td>-0.004113</td>\n",
       "      <td>38.0</td>\n",
       "      <td>39.0</td>\n",
       "      <td>39.0</td>\n",
       "    </tr>\n",
       "    <tr>\n",
       "      <th>110887</th>\n",
       "      <td>0.054611</td>\n",
       "      <td>0.005404</td>\n",
       "      <td>-0.005459</td>\n",
       "      <td>-0.029133</td>\n",
       "      <td>-0.010909</td>\n",
       "      <td>-0.011670</td>\n",
       "      <td>0.031216</td>\n",
       "      <td>-0.000691</td>\n",
       "      <td>-0.006766</td>\n",
       "      <td>0.012228</td>\n",
       "      <td>...</td>\n",
       "      <td>0.001485</td>\n",
       "      <td>-0.007395</td>\n",
       "      <td>-0.003753</td>\n",
       "      <td>0.002067</td>\n",
       "      <td>0.002337</td>\n",
       "      <td>0.001898</td>\n",
       "      <td>0.004502</td>\n",
       "      <td>38.0</td>\n",
       "      <td>39.0</td>\n",
       "      <td>38.0</td>\n",
       "    </tr>\n",
       "  </tbody>\n",
       "</table>\n",
       "<p>42008 rows × 444 columns</p>\n",
       "</div>"
      ],
      "text/plain": [
       "          flux_0    flux_1    flux_2    flux_3    flux_4    flux_5    flux_6  \\\n",
       "0       0.568345  0.615487  0.668477  0.705189  0.698754  0.700950  0.717146   \n",
       "1       0.496365  0.563067  0.602393  0.659527  0.682808  0.676481  0.674343   \n",
       "2       0.520227  0.580531  0.627045  0.645281  0.665795  0.678923  0.686509   \n",
       "3       0.483774  0.556865  0.603915  0.641451  0.698212  0.728678  0.666010   \n",
       "4       0.434787  0.504214  0.543165  0.611378  0.659270  0.680497  0.663214   \n",
       "...          ...       ...       ...       ...       ...       ...       ...   \n",
       "110809  0.030098  0.014580 -0.007441 -0.006942 -0.007369  0.006425  0.016458   \n",
       "110810  0.005596  0.004737 -0.002069  0.010406  0.006171  0.009747  0.011305   \n",
       "110848  0.073538  0.009197 -0.005860 -0.038976 -0.014792 -0.014072  0.036644   \n",
       "110849  0.001377 -0.014757 -0.004499  0.012407 -0.003643 -0.001074  0.012893   \n",
       "110887  0.054611  0.005404 -0.005459 -0.029133 -0.010909 -0.011670  0.031216   \n",
       "\n",
       "          flux_7    flux_8    flux_9  ...  flux_434  flux_435  flux_436  \\\n",
       "0       0.704941  0.707754  0.723033  ...  0.209508  0.203912  0.205196   \n",
       "1       0.689054  0.676825  0.670386  ...  0.213932  0.207528  0.206223   \n",
       "2       0.685623  0.674414  0.702066  ...  0.187648  0.184240  0.177598   \n",
       "3       0.671234  0.659358  0.688617  ...  0.233598  0.225866  0.234960   \n",
       "4       0.634306  0.645955  0.654454  ...  0.218515  0.209248  0.202981   \n",
       "...          ...       ...       ...  ...       ...       ...       ...   \n",
       "110809  0.006826 -0.001549  0.020413  ... -0.000636 -0.005062 -0.001746   \n",
       "110810  0.008200  0.004347  0.014751  ... -0.001543 -0.004403  0.001089   \n",
       "110848 -0.001032 -0.009587  0.015874  ...  0.003452 -0.007673 -0.005274   \n",
       "110849 -0.004316  0.009678 -0.000535  ... -0.000068 -0.007200  0.002112   \n",
       "110887 -0.000691 -0.006766  0.012228  ...  0.001485 -0.007395 -0.003753   \n",
       "\n",
       "        flux_437  flux_438  flux_439  flux_440  primary_type  secondary_type  \\\n",
       "0       0.201559  0.207766  0.209226  0.214793          16.0            16.0   \n",
       "1       0.201853  0.205284  0.206424  0.206224          16.0            17.0   \n",
       "2       0.175445  0.175319  0.181286  0.176042          16.0            16.0   \n",
       "3       0.214639  0.219380  0.224144  0.224282          16.0            16.0   \n",
       "4       0.198711  0.201315  0.201008  0.202865          16.0            16.0   \n",
       "...          ...       ...       ...       ...           ...             ...   \n",
       "110809  0.002502  0.002527  0.002917  0.003646          38.0            38.0   \n",
       "110810  0.004393  0.004432  0.004561 -0.000681          38.0            39.0   \n",
       "110848  0.000802  0.001512  0.001638  0.005702          38.0            38.0   \n",
       "110849  0.005037  0.006211  0.005238 -0.004113          38.0            39.0   \n",
       "110887  0.002067  0.002337  0.001898  0.004502          38.0            39.0   \n",
       "\n",
       "        system_type  \n",
       "0              16.0  \n",
       "1              16.0  \n",
       "2              16.0  \n",
       "3              16.0  \n",
       "4              16.0  \n",
       "...             ...  \n",
       "110809         38.0  \n",
       "110810         38.0  \n",
       "110848         38.0  \n",
       "110849         39.0  \n",
       "110887         38.0  \n",
       "\n",
       "[42008 rows x 444 columns]"
      ]
     },
     "execution_count": 2,
     "metadata": {},
     "output_type": "execute_result"
    }
   ],
   "source": [
    "#importing data\n",
    "spectraldata = \"/Users/malina/python_codes/spectral_templates_data_version_june20.h5\"\n",
    "\n",
    "pd.read_hdf(spectraldata, key = \"binaries\")"
   ]
  },
  {
   "cell_type": "code",
   "execution_count": 3,
   "id": "86132b00",
   "metadata": {},
   "outputs": [],
   "source": [
    "#defining locations\n",
    "\n",
    "python_codes = '/Users/malina/python_codes/'\n",
    "spectraldata = \"spectral_templates_data_version_june20.h5\"\n",
    "singles = pd.read_hdf(python_codes + spectraldata , key='singles')\n",
    "binaries = pd.read_hdf(python_codes + spectraldata, key = 'binaries')\n",
    "wavelengths = pd.read_hdf(python_codes + spectraldata , key= 'wavegrid')"
   ]
  },
  {
   "cell_type": "code",
   "execution_count": 5,
   "id": "fc95ea1e",
   "metadata": {},
   "outputs": [
    {
     "name": "stdout",
     "output_type": "stream",
     "text": [
      "       flux_0    flux_1    flux_2    flux_3    flux_4    flux_5    flux_6  \\\n",
      "0    0.494552  0.566051  0.614045  0.661532  0.686862  0.693291  0.702654   \n",
      "1    0.634512  0.657556  0.714886  0.740784  0.703573  0.701638  0.724311   \n",
      "2    0.493893  0.550069  0.571380  0.647315  0.666165  0.634119  0.608750   \n",
      "3    0.527926  0.576912  0.620860  0.613389  0.629185  0.647721  0.653567   \n",
      "4    0.462815  0.535964  0.581080  0.607863  0.694902  0.748792  0.615324   \n",
      "..        ...       ...       ...       ...       ...       ...       ...   \n",
      "431 -0.004027 -0.007743 -0.004455  0.005451  0.001937 -0.002612  0.002762   \n",
      "432  0.008489  0.009103 -0.001436  0.010861  0.008182  0.012516  0.011853   \n",
      "433 -0.004778  0.078588  0.011728 -0.005535  0.033752  0.007601 -0.034531   \n",
      "434  0.073008  0.009225 -0.005804 -0.039170 -0.014236 -0.015112  0.038132   \n",
      "435  0.001837 -0.014860 -0.004494  0.012385 -0.003599 -0.001110  0.012853   \n",
      "\n",
      "       flux_7    flux_8    flux_9  ...  flux_433  flux_434  flux_435  \\\n",
      "0    0.703600  0.686852  0.701040  ...  0.215337  0.215931  0.205811   \n",
      "1    0.699457  0.721232  0.737424  ...  0.206600  0.201257  0.200105   \n",
      "2    0.651115  0.648178  0.600103  ...  0.229087  0.207245  0.208434   \n",
      "3    0.651127  0.645000  0.683485  ...  0.157152  0.158078  0.160547   \n",
      "4    0.624720  0.617972  0.661705  ...  0.241278  0.246377  0.241199   \n",
      "..        ...       ...       ...  ...       ...       ...       ...   \n",
      "431  0.003820  0.011900  0.006834  ...  0.001825  0.003611  0.000533   \n",
      "432  0.010578  0.003773  0.018182  ... -0.001485 -0.002331 -0.003116   \n",
      "433 -0.006146 -0.020120  0.007291  ...  0.002653  0.000853  0.002269   \n",
      "434 -0.001542 -0.009924  0.014488  ...  0.011270  0.002495 -0.008254   \n",
      "435 -0.004229  0.009560 -0.000443  ... -0.005154  0.004652 -0.013720   \n",
      "\n",
      "     flux_436  flux_437  flux_438  flux_439  flux_440  spectral_type  \\\n",
      "0    0.202409  0.200154  0.205162  0.200159  0.202379           16.0   \n",
      "1    0.205926  0.200983  0.208295  0.216014  0.224778           12.0   \n",
      "2    0.211384  0.202791  0.202994  0.216542  0.211448           15.0   \n",
      "3    0.151297  0.149293  0.144747  0.160000  0.148471           17.0   \n",
      "4    0.262611  0.224629  0.229004  0.243447  0.241497           13.0   \n",
      "..        ...       ...       ...       ...       ...            ...   \n",
      "431  0.003529  0.002783  0.006177  0.002361  0.000314           38.0   \n",
      "432  0.000461  0.004334  0.003893  0.004213  0.000512           38.0   \n",
      "433 -0.005126  0.019522 -0.002011 -0.015760  0.007481           37.0   \n",
      "434 -0.004863  0.001008  0.001313  0.001250  0.006463           38.0   \n",
      "435  0.006558  0.003448  0.006827  0.007462 -0.007571           39.0   \n",
      "\n",
      "                  object_name  \n",
      "0     2MASS J16002535-2644060  \n",
      "1     2MASS J17252029-0024508  \n",
      "2     2MASS J01532750+3631482  \n",
      "3    WISE J141143.25-452418.3  \n",
      "4     2MASS J19445221-0831036  \n",
      "..                        ...  \n",
      "431  WISE J025409.51+022358.6  \n",
      "432    2MASSI J0415195-093506  \n",
      "433  WISE J132233.64-234016.8  \n",
      "434  WISE J222623.05+044004.0  \n",
      "435  UGPS J072227.51-054031.2  \n",
      "\n",
      "[436 rows x 443 columns]\n"
     ]
    }
   ],
   "source": [
    "print(singles)"
   ]
  },
  {
   "cell_type": "code",
   "execution_count": 6,
   "id": "e0a625a5",
   "metadata": {},
   "outputs": [],
   "source": [
    "#draw any number of binaries from data\n",
    "\n",
    "def draw_random_binaries_stars(n=10000):\n",
    "    binaries = pd.read_hdf(python_codes+spectraldata, key='binaries')\n",
    "    binaries = binaries.sample(n)\n",
    "    return binaries"
   ]
  },
  {
   "cell_type": "code",
   "execution_count": 7,
   "id": "b5702c66",
   "metadata": {},
   "outputs": [],
   "source": [
    "df_binaries= draw_random_binaries_stars(n=10000)"
   ]
  },
  {
   "cell_type": "code",
   "execution_count": 8,
   "id": "6e5a1205",
   "metadata": {},
   "outputs": [
    {
     "name": "stdout",
     "output_type": "stream",
     "text": [
      "          flux_0    flux_1    flux_2    flux_3    flux_4    flux_5    flux_6  \\\n",
      "103141  0.096387  0.100765  0.065728  0.025099  0.013149  0.015511  0.011184   \n",
      "74961  -0.024804 -0.021551 -0.018276 -0.014978 -0.011656 -0.008312 -0.004947   \n",
      "10186   0.383170  0.403622  0.449784  0.476415  0.493488  0.503680  0.510814   \n",
      "13790   0.442333  0.471994  0.526760  0.574382  0.578275  0.587333  0.585168   \n",
      "7205    0.519600  0.563320  0.600514  0.666402  0.717823  0.738861  0.739911   \n",
      "...          ...       ...       ...       ...       ...       ...       ...   \n",
      "15990   0.335006  0.384219  0.445752  0.482410  0.506298  0.495810  0.499703   \n",
      "63562   0.006729  0.008486  0.008107  0.009614  0.008541  0.007475  0.009065   \n",
      "10696   0.349153  0.390302  0.437420  0.481656  0.533422  0.556401  0.551506   \n",
      "23659   0.141319  0.176615  0.216193  0.244772  0.271535  0.297979  0.306908   \n",
      "36605   0.129562  0.142494  0.163628  0.192134  0.202896  0.216356  0.244291   \n",
      "\n",
      "          flux_7    flux_8    flux_9  ...  flux_434  flux_435  flux_436  \\\n",
      "103141  0.023138  0.048652  0.038702  ...  0.084075  0.078340  0.085001   \n",
      "74961  -0.001558  0.001855  0.005290  ...  0.295903  0.283684  0.273245   \n",
      "10186   0.505575  0.515625  0.538356  ...  0.172354  0.171517  0.175680   \n",
      "13790   0.581559  0.600303  0.591718  ...  0.252565  0.243871  0.245559   \n",
      "7205    0.742549  0.716137  0.709445  ...  0.210334  0.208285  0.206258   \n",
      "...          ...       ...       ...  ...       ...       ...       ...   \n",
      "15990   0.502513  0.525258  0.528429  ...  0.201210  0.199123  0.190718   \n",
      "63562   0.009395  0.008205  0.010526  ...  0.015325  0.016180  0.017101   \n",
      "10696   0.551734  0.552270  0.557386  ...  0.233917  0.230815  0.225307   \n",
      "23659   0.316798  0.318466  0.303613  ...  0.240415  0.237071  0.232110   \n",
      "36605   0.242873  0.232529  0.240348  ...  0.300755  0.291652  0.293083   \n",
      "\n",
      "        flux_437  flux_438  flux_439  flux_440  primary_type  secondary_type  \\\n",
      "103141  0.075031  0.078590  0.078905  0.073992          32.0            35.0   \n",
      "74961   0.270909  0.275822  0.270730  0.281569          27.0            36.0   \n",
      "10186   0.172040  0.170557  0.167182  0.166769          17.0            18.0   \n",
      "13790   0.240787  0.241433  0.244591  0.242949          16.0            20.0   \n",
      "7205    0.199192  0.198215  0.195119  0.205096          16.0            26.0   \n",
      "...          ...       ...       ...       ...           ...             ...   \n",
      "15990   0.195020  0.189830  0.196794  0.196405          17.0            21.0   \n",
      "63562   0.016818  0.019602  0.019503  0.017020          22.0            31.0   \n",
      "10696   0.223484  0.226292  0.227799  0.222546          18.0            21.0   \n",
      "23659   0.233922  0.235521  0.233338  0.228973          18.0            19.0   \n",
      "36605   0.290385  0.294950  0.298149  0.288314          20.0            23.0   \n",
      "\n",
      "        system_type  \n",
      "103141         33.0  \n",
      "74961          25.0  \n",
      "10186          17.0  \n",
      "13790          18.0  \n",
      "7205           16.0  \n",
      "...             ...  \n",
      "15990          17.0  \n",
      "63562          23.0  \n",
      "10696          18.0  \n",
      "23659          18.0  \n",
      "36605          21.0  \n",
      "\n",
      "[10000 rows x 444 columns]\n"
     ]
    }
   ],
   "source": [
    "print(df_binaries)"
   ]
  },
  {
   "cell_type": "code",
   "execution_count": 9,
   "id": "462ea75a",
   "metadata": {},
   "outputs": [],
   "source": [
    "df_singles = singles"
   ]
  },
  {
   "cell_type": "code",
   "execution_count": 10,
   "id": "8246477a",
   "metadata": {},
   "outputs": [
    {
     "data": {
      "text/plain": [
       "<AxesSubplot:ylabel='Frequency'>"
      ]
     },
     "execution_count": 10,
     "metadata": {},
     "output_type": "execute_result"
    },
    {
     "data": {
      "image/png": "[encoded data removed]",
      "text/plain": [
       "<Figure size 432x288 with 1 Axes>"
      ]
     },
     "metadata": {
      "needs_background": "light"
     },
     "output_type": "display_data"
    }
   ],
   "source": [
    "# visualizing data\n",
    "\n",
    "df_singles.spectral_type.plot(kind = 'hist')"
   ]
  },
  {
   "cell_type": "code",
   "execution_count": 12,
   "id": "8011453e",
   "metadata": {},
   "outputs": [
    {
     "data": {
      "text/plain": [
       "<AxesSubplot:ylabel='Frequency'>"
      ]
     },
     "execution_count": 12,
     "metadata": {},
     "output_type": "execute_result"
    },
    {
     "data": {
      "image/png": "[encoded data removed]",
      "text/plain": [
       "<Figure size 432x288 with 1 Axes>"
      ]
     },
     "metadata": {
      "needs_background": "light"
     },
     "output_type": "display_data"
    }
   ],
   "source": [
    "df_binaries.system_type.plot(kind = 'hist')"
   ]
  },
  {
   "cell_type": "code",
   "execution_count": 13,
   "id": "e6b2f773",
   "metadata": {},
   "outputs": [
    {
     "name": "stdout",
     "output_type": "stream",
     "text": [
      "          flux_0    flux_1    flux_2    flux_3    flux_4    flux_5    flux_6  \\\n",
      "103141  0.096387  0.100765  0.065728  0.025099  0.013149  0.015511  0.011184   \n",
      "74961  -0.024804 -0.021551 -0.018276 -0.014978 -0.011656 -0.008312 -0.004947   \n",
      "10186   0.383170  0.403622  0.449784  0.476415  0.493488  0.503680  0.510814   \n",
      "13790   0.442333  0.471994  0.526760  0.574382  0.578275  0.587333  0.585168   \n",
      "7205    0.519600  0.563320  0.600514  0.666402  0.717823  0.738861  0.739911   \n",
      "...          ...       ...       ...       ...       ...       ...       ...   \n",
      "15990   0.335006  0.384219  0.445752  0.482410  0.506298  0.495810  0.499703   \n",
      "63562   0.006729  0.008486  0.008107  0.009614  0.008541  0.007475  0.009065   \n",
      "10696   0.349153  0.390302  0.437420  0.481656  0.533422  0.556401  0.551506   \n",
      "23659   0.141319  0.176615  0.216193  0.244772  0.271535  0.297979  0.306908   \n",
      "36605   0.129562  0.142494  0.163628  0.192134  0.202896  0.216356  0.244291   \n",
      "\n",
      "          flux_7    flux_8    flux_9  ...  flux_434  flux_435  flux_436  \\\n",
      "103141  0.023138  0.048652  0.038702  ...  0.084075  0.078340  0.085001   \n",
      "74961  -0.001558  0.001855  0.005290  ...  0.295903  0.283684  0.273245   \n",
      "10186   0.505575  0.515625  0.538356  ...  0.172354  0.171517  0.175680   \n",
      "13790   0.581559  0.600303  0.591718  ...  0.252565  0.243871  0.245559   \n",
      "7205    0.742549  0.716137  0.709445  ...  0.210334  0.208285  0.206258   \n",
      "...          ...       ...       ...  ...       ...       ...       ...   \n",
      "15990   0.502513  0.525258  0.528429  ...  0.201210  0.199123  0.190718   \n",
      "63562   0.009395  0.008205  0.010526  ...  0.015325  0.016180  0.017101   \n",
      "10696   0.551734  0.552270  0.557386  ...  0.233917  0.230815  0.225307   \n",
      "23659   0.316798  0.318466  0.303613  ...  0.240415  0.237071  0.232110   \n",
      "36605   0.242873  0.232529  0.240348  ...  0.300755  0.291652  0.293083   \n",
      "\n",
      "        flux_437  flux_438  flux_439  flux_440  primary_type  secondary_type  \\\n",
      "103141  0.075031  0.078590  0.078905  0.073992          32.0            35.0   \n",
      "74961   0.270909  0.275822  0.270730  0.281569          27.0            36.0   \n",
      "10186   0.172040  0.170557  0.167182  0.166769          17.0            18.0   \n",
      "13790   0.240787  0.241433  0.244591  0.242949          16.0            20.0   \n",
      "7205    0.199192  0.198215  0.195119  0.205096          16.0            26.0   \n",
      "...          ...       ...       ...       ...           ...             ...   \n",
      "15990   0.195020  0.189830  0.196794  0.196405          17.0            21.0   \n",
      "63562   0.016818  0.019602  0.019503  0.017020          22.0            31.0   \n",
      "10696   0.223484  0.226292  0.227799  0.222546          18.0            21.0   \n",
      "23659   0.233922  0.235521  0.233338  0.228973          18.0            19.0   \n",
      "36605   0.290385  0.294950  0.298149  0.288314          20.0            23.0   \n",
      "\n",
      "        spectral_type  \n",
      "103141           33.0  \n",
      "74961            25.0  \n",
      "10186            17.0  \n",
      "13790            18.0  \n",
      "7205             16.0  \n",
      "...               ...  \n",
      "15990            17.0  \n",
      "63562            23.0  \n",
      "10696            18.0  \n",
      "23659            18.0  \n",
      "36605            21.0  \n",
      "\n",
      "[10000 rows x 444 columns]\n"
     ]
    }
   ],
   "source": [
    "# change column names\n",
    "\n",
    "df_newbinaries = df_binaries.rename(columns = {'system_type':'spectral_type'})\n",
    "print(df_newbinaries)"
   ]
  },
  {
   "cell_type": "code",
   "execution_count": 31,
   "id": "7446abf4",
   "metadata": {},
   "outputs": [
    {
     "data": {
      "text/plain": [
       "False"
      ]
     },
     "execution_count": 31,
     "metadata": {},
     "output_type": "execute_result"
    }
   ],
   "source": [
    "#checking for NANS\n",
    "\n",
    "df_newbinaries.isnull().values.any()"
   ]
  },
  {
   "cell_type": "code",
   "execution_count": 14,
   "id": "d4a2a0b6",
   "metadata": {},
   "outputs": [],
   "source": [
    "df_singles[\"binary\"] = 0\n",
    "df_newbinaries[\"binary\"] = 1"
   ]
  },
  {
   "cell_type": "code",
   "execution_count": 17,
   "id": "3968568c",
   "metadata": {},
   "outputs": [
    {
     "name": "stdout",
     "output_type": "stream",
     "text": [
      "         flux_0    flux_1    flux_2    flux_3    flux_4    flux_5    flux_6  \\\n",
      "0      0.494552  0.566051  0.614045  0.661532  0.686862  0.693291  0.702654   \n",
      "1      0.634512  0.657556  0.714886  0.740784  0.703573  0.701638  0.724311   \n",
      "2      0.493893  0.550069  0.571380  0.647315  0.666165  0.634119  0.608750   \n",
      "3      0.527926  0.576912  0.620860  0.613389  0.629185  0.647721  0.653567   \n",
      "4      0.462815  0.535964  0.581080  0.607863  0.694902  0.748792  0.615324   \n",
      "...         ...       ...       ...       ...       ...       ...       ...   \n",
      "15990  0.335006  0.384219  0.445752  0.482410  0.506298  0.495810  0.499703   \n",
      "63562  0.006729  0.008486  0.008107  0.009614  0.008541  0.007475  0.009065   \n",
      "10696  0.349153  0.390302  0.437420  0.481656  0.533422  0.556401  0.551506   \n",
      "23659  0.141319  0.176615  0.216193  0.244772  0.271535  0.297979  0.306908   \n",
      "36605  0.129562  0.142494  0.163628  0.192134  0.202896  0.216356  0.244291   \n",
      "\n",
      "         flux_7    flux_8    flux_9  ...  flux_436  flux_437  flux_438  \\\n",
      "0      0.703600  0.686852  0.701040  ...  0.202409  0.200154  0.205162   \n",
      "1      0.699457  0.721232  0.737424  ...  0.205926  0.200983  0.208295   \n",
      "2      0.651115  0.648178  0.600103  ...  0.211384  0.202791  0.202994   \n",
      "3      0.651127  0.645000  0.683485  ...  0.151297  0.149293  0.144747   \n",
      "4      0.624720  0.617972  0.661705  ...  0.262611  0.224629  0.229004   \n",
      "...         ...       ...       ...  ...       ...       ...       ...   \n",
      "15990  0.502513  0.525258  0.528429  ...  0.190718  0.195020  0.189830   \n",
      "63562  0.009395  0.008205  0.010526  ...  0.017101  0.016818  0.019602   \n",
      "10696  0.551734  0.552270  0.557386  ...  0.225307  0.223484  0.226292   \n",
      "23659  0.316798  0.318466  0.303613  ...  0.232110  0.233922  0.235521   \n",
      "36605  0.242873  0.232529  0.240348  ...  0.293083  0.290385  0.294950   \n",
      "\n",
      "       flux_439  flux_440  spectral_type               object_name  binary  \\\n",
      "0      0.200159  0.202379           16.0   2MASS J16002535-2644060       0   \n",
      "1      0.216014  0.224778           12.0   2MASS J17252029-0024508       0   \n",
      "2      0.216542  0.211448           15.0   2MASS J01532750+3631482       0   \n",
      "3      0.160000  0.148471           17.0  WISE J141143.25-452418.3       0   \n",
      "4      0.243447  0.241497           13.0   2MASS J19445221-0831036       0   \n",
      "...         ...       ...            ...                       ...     ...   \n",
      "15990  0.196794  0.196405           17.0                       NaN       1   \n",
      "63562  0.019503  0.017020           23.0                       NaN       1   \n",
      "10696  0.227799  0.222546           18.0                       NaN       1   \n",
      "23659  0.233338  0.228973           18.0                       NaN       1   \n",
      "36605  0.298149  0.288314           21.0                       NaN       1   \n",
      "\n",
      "       primary_type  secondary_type  \n",
      "0               NaN             NaN  \n",
      "1               NaN             NaN  \n",
      "2               NaN             NaN  \n",
      "3               NaN             NaN  \n",
      "4               NaN             NaN  \n",
      "...             ...             ...  \n",
      "15990          17.0            21.0  \n",
      "63562          22.0            31.0  \n",
      "10696          18.0            21.0  \n",
      "23659          18.0            19.0  \n",
      "36605          20.0            23.0  \n",
      "\n",
      "[10436 rows x 446 columns]\n"
     ]
    }
   ],
   "source": [
    "frames = [df_singles, df_newbinaries]\n",
    "result = pd.concat(frames)\n",
    "print(result)"
   ]
  },
  {
   "cell_type": "code",
   "execution_count": 32,
   "id": "b34165fb",
   "metadata": {},
   "outputs": [
    {
     "name": "stdout",
     "output_type": "stream",
     "text": [
      "[[ 0.4945521   0.56605061  0.61404531 ...  0.20237907 16.\n",
      "   0.        ]\n",
      " [ 0.63451219  0.65755596  0.71488554 ...  0.22477762 12.\n",
      "   0.        ]\n",
      " [ 0.49389331  0.55006927  0.57138003 ...  0.21144832 15.\n",
      "   0.        ]\n",
      " ...\n",
      " [ 0.34915317  0.39030175  0.43742027 ...  0.22254598 18.\n",
      "   1.        ]\n",
      " [ 0.14131865  0.17661517  0.21619338 ...  0.2289732  18.\n",
      "   1.        ]\n",
      " [ 0.12956246  0.14249423  0.16362846 ...  0.28831443 21.\n",
      "   1.        ]]\n"
     ]
    }
   ],
   "source": [
    "from sklearn.model_selection import train_test_split\n",
    "RSEED = 42  \n",
    "\n",
    "feats = list(result.columns)\n",
    "feats.remove('object_name')\n",
    "feats.remove('primary_type')\n",
    "feats.remove('secondary_type')\n",
    "\n",
    "x0 = np.array(result[feats])\n",
    "y0 = np.array(result['binary'])\n",
    "\n",
    "print(x0)"
   ]
  },
  {
   "cell_type": "code",
   "execution_count": 33,
   "id": "aa9e32ad",
   "metadata": {},
   "outputs": [
    {
     "name": "stdout",
     "output_type": "stream",
     "text": [
      "[0 0 0 ... 1 1 1]\n"
     ]
    }
   ],
   "source": [
    "print(y0)"
   ]
  },
  {
   "cell_type": "code",
   "execution_count": 34,
   "id": "69905e26",
   "metadata": {},
   "outputs": [],
   "source": [
    "x_train, x_test, y_train, y_test = train_test_split(x0,y0,train_size=0.75, random_state=RSEED, shuffle=True)"
   ]
  },
  {
   "cell_type": "code",
   "execution_count": 35,
   "id": "0b588253",
   "metadata": {},
   "outputs": [
    {
     "data": {
      "text/plain": [
       "RandomForestClassifier(n_estimators=50)"
      ]
     },
     "execution_count": 35,
     "metadata": {},
     "output_type": "execute_result"
    }
   ],
   "source": [
    "RF = RandomForestClassifier(n_estimators = 50)\n",
    "RF.fit(x_train, y_train)"
   ]
  },
  {
   "cell_type": "code",
   "execution_count": 36,
   "id": "0c7de162",
   "metadata": {},
   "outputs": [
    {
     "name": "stdout",
     "output_type": "stream",
     "text": [
      "The raw features produce a model with precision ~0.9909 !\n"
     ]
    }
   ],
   "source": [
    "from sklearn.metrics import precision_score\n",
    "\n",
    "test_preds = RF.predict(x_test)\n",
    "\n",
    "print(\"The raw features produce a model with precision ~{:.4f} !\".format(precision_score(y_test, test_preds)))"
   ]
  },
  {
   "cell_type": "code",
   "execution_count": 37,
   "id": "9be40bce",
   "metadata": {},
   "outputs": [
    {
     "name": "stdout",
     "output_type": "stream",
     "text": [
      "              precision    recall  f1-score   support\n",
      "\n",
      "           0       1.00      0.80      0.89       113\n",
      "           1       0.99      1.00      1.00      2496\n",
      "\n",
      "    accuracy                           0.99      2609\n",
      "   macro avg       1.00      0.90      0.94      2609\n",
      "weighted avg       0.99      0.99      0.99      2609\n",
      "\n"
     ]
    }
   ],
   "source": [
    "from sklearn.metrics import classification_report\n",
    "\n",
    "print(classification_report(y_test, test_preds))"
   ]
  },
  {
   "cell_type": "code",
   "execution_count": 38,
   "id": "8918b958",
   "metadata": {},
   "outputs": [
    {
     "data": {
      "text/plain": [
       "array([[  90,   23],\n",
       "       [   0, 2496]])"
      ]
     },
     "execution_count": 38,
     "metadata": {},
     "output_type": "execute_result"
    }
   ],
   "source": [
    "from sklearn.metrics import confusion_matrix\n",
    "confusion_matrix(y_test, test_preds)"
   ]
  },
  {
   "cell_type": "code",
   "execution_count": null,
   "id": "c40235fa",
   "metadata": {},
   "outputs": [],
   "source": []
  }
 ],
 "metadata": {
  "kernelspec": {
   "display_name": "Python 3 (ipykernel)",
   "language": "python",
   "name": "python3"
  },
  "language_info": {
   "codemirror_mode": {
    "name": "ipython",
    "version": 3
   },
   "file_extension": ".py",
   "mimetype": "text/x-python",
   "name": "python",
   "nbconvert_exporter": "python",
   "pygments_lexer": "ipython3",
   "version": "3.9.7"
  }
 },
 "nbformat": 4,
 "nbformat_minor": 5
}
