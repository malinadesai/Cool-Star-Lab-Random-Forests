{
 "cells": [
  {
   "cell_type": "code",
   "execution_count": 8,
   "id": "c950b771",
   "metadata": {},
   "outputs": [],
   "source": [
    "import h5py\n",
    "import random\n",
    "import numpy as np\n",
    "import matplotlib.pyplot as plt\n",
    "import sklearn\n",
    "from sklearn.ensemble import RandomForestClassifier\n",
    "from sklearn.metrics import confusion_matrix, accuracy_score, precision_score, classification_report\n",
    "from sklearn.preprocessing import MinMaxScaler, StandardScaler\n",
    "from sklearn.model_selection import train_test_split, KFold,RepeatedKFold, GridSearchCV,  RandomizedSearchCV\n",
    "import math\n",
    "\n",
    "import seaborn as sns\n",
    "import pandas as pd\n",
    "from itertools import islice\n",
    "\n",
    "import splat\n",
    "import splat.plot as splot\n",
    "import splat.photometry as sphot\n",
    "import splat.empirical as spem"
   ]
  },
  {
   "cell_type": "code",
   "execution_count": 9,
   "id": "8c082dad",
   "metadata": {},
   "outputs": [
    {
     "data": {
      "text/html": [
       "<div>\n",
       "<style scoped>\n",
       "    .dataframe tbody tr th:only-of-type {\n",
       "        vertical-align: middle;\n",
       "    }\n",
       "\n",
       "    .dataframe tbody tr th {\n",
       "        vertical-align: top;\n",
       "    }\n",
       "\n",
       "    .dataframe thead th {\n",
       "        text-align: right;\n",
       "    }\n",
       "</style>\n",
       "<table border=\"1\" class=\"dataframe\">\n",
       "  <thead>\n",
       "    <tr style=\"text-align: right;\">\n",
       "      <th></th>\n",
       "      <th>flux_0</th>\n",
       "      <th>flux_1</th>\n",
       "      <th>flux_2</th>\n",
       "      <th>flux_3</th>\n",
       "      <th>flux_4</th>\n",
       "      <th>flux_5</th>\n",
       "      <th>flux_6</th>\n",
       "      <th>flux_7</th>\n",
       "      <th>flux_8</th>\n",
       "      <th>flux_9</th>\n",
       "      <th>...</th>\n",
       "      <th>flux_434</th>\n",
       "      <th>flux_435</th>\n",
       "      <th>flux_436</th>\n",
       "      <th>flux_437</th>\n",
       "      <th>flux_438</th>\n",
       "      <th>flux_439</th>\n",
       "      <th>flux_440</th>\n",
       "      <th>primary_type</th>\n",
       "      <th>secondary_type</th>\n",
       "      <th>system_type</th>\n",
       "    </tr>\n",
       "  </thead>\n",
       "  <tbody>\n",
       "    <tr>\n",
       "      <th>0</th>\n",
       "      <td>0.568345</td>\n",
       "      <td>0.615487</td>\n",
       "      <td>0.668477</td>\n",
       "      <td>0.705189</td>\n",
       "      <td>0.698754</td>\n",
       "      <td>0.700950</td>\n",
       "      <td>0.717146</td>\n",
       "      <td>0.704941</td>\n",
       "      <td>0.707754</td>\n",
       "      <td>0.723033</td>\n",
       "      <td>...</td>\n",
       "      <td>0.209508</td>\n",
       "      <td>0.203912</td>\n",
       "      <td>0.205196</td>\n",
       "      <td>0.201559</td>\n",
       "      <td>0.207766</td>\n",
       "      <td>0.209226</td>\n",
       "      <td>0.214793</td>\n",
       "      <td>16.0</td>\n",
       "      <td>16.0</td>\n",
       "      <td>16.0</td>\n",
       "    </tr>\n",
       "    <tr>\n",
       "      <th>1</th>\n",
       "      <td>0.496365</td>\n",
       "      <td>0.563067</td>\n",
       "      <td>0.602393</td>\n",
       "      <td>0.659527</td>\n",
       "      <td>0.682808</td>\n",
       "      <td>0.676481</td>\n",
       "      <td>0.674343</td>\n",
       "      <td>0.689054</td>\n",
       "      <td>0.676825</td>\n",
       "      <td>0.670386</td>\n",
       "      <td>...</td>\n",
       "      <td>0.213932</td>\n",
       "      <td>0.207528</td>\n",
       "      <td>0.206223</td>\n",
       "      <td>0.201853</td>\n",
       "      <td>0.205284</td>\n",
       "      <td>0.206424</td>\n",
       "      <td>0.206224</td>\n",
       "      <td>16.0</td>\n",
       "      <td>17.0</td>\n",
       "      <td>16.0</td>\n",
       "    </tr>\n",
       "    <tr>\n",
       "      <th>2</th>\n",
       "      <td>0.520227</td>\n",
       "      <td>0.580531</td>\n",
       "      <td>0.627045</td>\n",
       "      <td>0.645281</td>\n",
       "      <td>0.665795</td>\n",
       "      <td>0.678923</td>\n",
       "      <td>0.686509</td>\n",
       "      <td>0.685623</td>\n",
       "      <td>0.674414</td>\n",
       "      <td>0.702066</td>\n",
       "      <td>...</td>\n",
       "      <td>0.187648</td>\n",
       "      <td>0.184240</td>\n",
       "      <td>0.177598</td>\n",
       "      <td>0.175445</td>\n",
       "      <td>0.175319</td>\n",
       "      <td>0.181286</td>\n",
       "      <td>0.176042</td>\n",
       "      <td>16.0</td>\n",
       "      <td>16.0</td>\n",
       "      <td>16.0</td>\n",
       "    </tr>\n",
       "    <tr>\n",
       "      <th>3</th>\n",
       "      <td>0.483774</td>\n",
       "      <td>0.556865</td>\n",
       "      <td>0.603915</td>\n",
       "      <td>0.641451</td>\n",
       "      <td>0.698212</td>\n",
       "      <td>0.728678</td>\n",
       "      <td>0.666010</td>\n",
       "      <td>0.671234</td>\n",
       "      <td>0.659358</td>\n",
       "      <td>0.688617</td>\n",
       "      <td>...</td>\n",
       "      <td>0.233598</td>\n",
       "      <td>0.225866</td>\n",
       "      <td>0.234960</td>\n",
       "      <td>0.214639</td>\n",
       "      <td>0.219380</td>\n",
       "      <td>0.224144</td>\n",
       "      <td>0.224282</td>\n",
       "      <td>16.0</td>\n",
       "      <td>16.0</td>\n",
       "      <td>16.0</td>\n",
       "    </tr>\n",
       "    <tr>\n",
       "      <th>4</th>\n",
       "      <td>0.434787</td>\n",
       "      <td>0.504214</td>\n",
       "      <td>0.543165</td>\n",
       "      <td>0.611378</td>\n",
       "      <td>0.659270</td>\n",
       "      <td>0.680497</td>\n",
       "      <td>0.663214</td>\n",
       "      <td>0.634306</td>\n",
       "      <td>0.645955</td>\n",
       "      <td>0.654454</td>\n",
       "      <td>...</td>\n",
       "      <td>0.218515</td>\n",
       "      <td>0.209248</td>\n",
       "      <td>0.202981</td>\n",
       "      <td>0.198711</td>\n",
       "      <td>0.201315</td>\n",
       "      <td>0.201008</td>\n",
       "      <td>0.202865</td>\n",
       "      <td>16.0</td>\n",
       "      <td>16.0</td>\n",
       "      <td>16.0</td>\n",
       "    </tr>\n",
       "    <tr>\n",
       "      <th>...</th>\n",
       "      <td>...</td>\n",
       "      <td>...</td>\n",
       "      <td>...</td>\n",
       "      <td>...</td>\n",
       "      <td>...</td>\n",
       "      <td>...</td>\n",
       "      <td>...</td>\n",
       "      <td>...</td>\n",
       "      <td>...</td>\n",
       "      <td>...</td>\n",
       "      <td>...</td>\n",
       "      <td>...</td>\n",
       "      <td>...</td>\n",
       "      <td>...</td>\n",
       "      <td>...</td>\n",
       "      <td>...</td>\n",
       "      <td>...</td>\n",
       "      <td>...</td>\n",
       "      <td>...</td>\n",
       "      <td>...</td>\n",
       "      <td>...</td>\n",
       "    </tr>\n",
       "    <tr>\n",
       "      <th>110809</th>\n",
       "      <td>0.030098</td>\n",
       "      <td>0.014580</td>\n",
       "      <td>-0.007441</td>\n",
       "      <td>-0.006942</td>\n",
       "      <td>-0.007369</td>\n",
       "      <td>0.006425</td>\n",
       "      <td>0.016458</td>\n",
       "      <td>0.006826</td>\n",
       "      <td>-0.001549</td>\n",
       "      <td>0.020413</td>\n",
       "      <td>...</td>\n",
       "      <td>-0.000636</td>\n",
       "      <td>-0.005062</td>\n",
       "      <td>-0.001746</td>\n",
       "      <td>0.002502</td>\n",
       "      <td>0.002527</td>\n",
       "      <td>0.002917</td>\n",
       "      <td>0.003646</td>\n",
       "      <td>38.0</td>\n",
       "      <td>38.0</td>\n",
       "      <td>38.0</td>\n",
       "    </tr>\n",
       "    <tr>\n",
       "      <th>110810</th>\n",
       "      <td>0.005596</td>\n",
       "      <td>0.004737</td>\n",
       "      <td>-0.002069</td>\n",
       "      <td>0.010406</td>\n",
       "      <td>0.006171</td>\n",
       "      <td>0.009747</td>\n",
       "      <td>0.011305</td>\n",
       "      <td>0.008200</td>\n",
       "      <td>0.004347</td>\n",
       "      <td>0.014751</td>\n",
       "      <td>...</td>\n",
       "      <td>-0.001543</td>\n",
       "      <td>-0.004403</td>\n",
       "      <td>0.001089</td>\n",
       "      <td>0.004393</td>\n",
       "      <td>0.004432</td>\n",
       "      <td>0.004561</td>\n",
       "      <td>-0.000681</td>\n",
       "      <td>38.0</td>\n",
       "      <td>39.0</td>\n",
       "      <td>38.0</td>\n",
       "    </tr>\n",
       "    <tr>\n",
       "      <th>110848</th>\n",
       "      <td>0.073538</td>\n",
       "      <td>0.009197</td>\n",
       "      <td>-0.005860</td>\n",
       "      <td>-0.038976</td>\n",
       "      <td>-0.014792</td>\n",
       "      <td>-0.014072</td>\n",
       "      <td>0.036644</td>\n",
       "      <td>-0.001032</td>\n",
       "      <td>-0.009587</td>\n",
       "      <td>0.015874</td>\n",
       "      <td>...</td>\n",
       "      <td>0.003452</td>\n",
       "      <td>-0.007673</td>\n",
       "      <td>-0.005274</td>\n",
       "      <td>0.000802</td>\n",
       "      <td>0.001512</td>\n",
       "      <td>0.001638</td>\n",
       "      <td>0.005702</td>\n",
       "      <td>38.0</td>\n",
       "      <td>38.0</td>\n",
       "      <td>38.0</td>\n",
       "    </tr>\n",
       "    <tr>\n",
       "      <th>110849</th>\n",
       "      <td>0.001377</td>\n",
       "      <td>-0.014757</td>\n",
       "      <td>-0.004499</td>\n",
       "      <td>0.012407</td>\n",
       "      <td>-0.003643</td>\n",
       "      <td>-0.001074</td>\n",
       "      <td>0.012893</td>\n",
       "      <td>-0.004316</td>\n",
       "      <td>0.009678</td>\n",
       "      <td>-0.000535</td>\n",
       "      <td>...</td>\n",
       "      <td>-0.000068</td>\n",
       "      <td>-0.007200</td>\n",
       "      <td>0.002112</td>\n",
       "      <td>0.005037</td>\n",
       "      <td>0.006211</td>\n",
       "      <td>0.005238</td>\n",
       "      <td>-0.004113</td>\n",
       "      <td>38.0</td>\n",
       "      <td>39.0</td>\n",
       "      <td>39.0</td>\n",
       "    </tr>\n",
       "    <tr>\n",
       "      <th>110887</th>\n",
       "      <td>0.054611</td>\n",
       "      <td>0.005404</td>\n",
       "      <td>-0.005459</td>\n",
       "      <td>-0.029133</td>\n",
       "      <td>-0.010909</td>\n",
       "      <td>-0.011670</td>\n",
       "      <td>0.031216</td>\n",
       "      <td>-0.000691</td>\n",
       "      <td>-0.006766</td>\n",
       "      <td>0.012228</td>\n",
       "      <td>...</td>\n",
       "      <td>0.001485</td>\n",
       "      <td>-0.007395</td>\n",
       "      <td>-0.003753</td>\n",
       "      <td>0.002067</td>\n",
       "      <td>0.002337</td>\n",
       "      <td>0.001898</td>\n",
       "      <td>0.004502</td>\n",
       "      <td>38.0</td>\n",
       "      <td>39.0</td>\n",
       "      <td>38.0</td>\n",
       "    </tr>\n",
       "  </tbody>\n",
       "</table>\n",
       "<p>42008 rows × 444 columns</p>\n",
       "</div>"
      ],
      "text/plain": [
       "          flux_0    flux_1    flux_2    flux_3    flux_4    flux_5    flux_6  \\\n",
       "0       0.568345  0.615487  0.668477  0.705189  0.698754  0.700950  0.717146   \n",
       "1       0.496365  0.563067  0.602393  0.659527  0.682808  0.676481  0.674343   \n",
       "2       0.520227  0.580531  0.627045  0.645281  0.665795  0.678923  0.686509   \n",
       "3       0.483774  0.556865  0.603915  0.641451  0.698212  0.728678  0.666010   \n",
       "4       0.434787  0.504214  0.543165  0.611378  0.659270  0.680497  0.663214   \n",
       "...          ...       ...       ...       ...       ...       ...       ...   \n",
       "110809  0.030098  0.014580 -0.007441 -0.006942 -0.007369  0.006425  0.016458   \n",
       "110810  0.005596  0.004737 -0.002069  0.010406  0.006171  0.009747  0.011305   \n",
       "110848  0.073538  0.009197 -0.005860 -0.038976 -0.014792 -0.014072  0.036644   \n",
       "110849  0.001377 -0.014757 -0.004499  0.012407 -0.003643 -0.001074  0.012893   \n",
       "110887  0.054611  0.005404 -0.005459 -0.029133 -0.010909 -0.011670  0.031216   \n",
       "\n",
       "          flux_7    flux_8    flux_9  ...  flux_434  flux_435  flux_436  \\\n",
       "0       0.704941  0.707754  0.723033  ...  0.209508  0.203912  0.205196   \n",
       "1       0.689054  0.676825  0.670386  ...  0.213932  0.207528  0.206223   \n",
       "2       0.685623  0.674414  0.702066  ...  0.187648  0.184240  0.177598   \n",
       "3       0.671234  0.659358  0.688617  ...  0.233598  0.225866  0.234960   \n",
       "4       0.634306  0.645955  0.654454  ...  0.218515  0.209248  0.202981   \n",
       "...          ...       ...       ...  ...       ...       ...       ...   \n",
       "110809  0.006826 -0.001549  0.020413  ... -0.000636 -0.005062 -0.001746   \n",
       "110810  0.008200  0.004347  0.014751  ... -0.001543 -0.004403  0.001089   \n",
       "110848 -0.001032 -0.009587  0.015874  ...  0.003452 -0.007673 -0.005274   \n",
       "110849 -0.004316  0.009678 -0.000535  ... -0.000068 -0.007200  0.002112   \n",
       "110887 -0.000691 -0.006766  0.012228  ...  0.001485 -0.007395 -0.003753   \n",
       "\n",
       "        flux_437  flux_438  flux_439  flux_440  primary_type  secondary_type  \\\n",
       "0       0.201559  0.207766  0.209226  0.214793          16.0            16.0   \n",
       "1       0.201853  0.205284  0.206424  0.206224          16.0            17.0   \n",
       "2       0.175445  0.175319  0.181286  0.176042          16.0            16.0   \n",
       "3       0.214639  0.219380  0.224144  0.224282          16.0            16.0   \n",
       "4       0.198711  0.201315  0.201008  0.202865          16.0            16.0   \n",
       "...          ...       ...       ...       ...           ...             ...   \n",
       "110809  0.002502  0.002527  0.002917  0.003646          38.0            38.0   \n",
       "110810  0.004393  0.004432  0.004561 -0.000681          38.0            39.0   \n",
       "110848  0.000802  0.001512  0.001638  0.005702          38.0            38.0   \n",
       "110849  0.005037  0.006211  0.005238 -0.004113          38.0            39.0   \n",
       "110887  0.002067  0.002337  0.001898  0.004502          38.0            39.0   \n",
       "\n",
       "        system_type  \n",
       "0              16.0  \n",
       "1              16.0  \n",
       "2              16.0  \n",
       "3              16.0  \n",
       "4              16.0  \n",
       "...             ...  \n",
       "110809         38.0  \n",
       "110810         38.0  \n",
       "110848         38.0  \n",
       "110849         39.0  \n",
       "110887         38.0  \n",
       "\n",
       "[42008 rows x 444 columns]"
      ]
     },
     "execution_count": 9,
     "metadata": {},
     "output_type": "execute_result"
    }
   ],
   "source": [
    "#importing data\n",
    "spectraldata = \"/Users/malina/python_codes/spectral_templates_data_version_june20.h5\"\n",
    "\n",
    "pd.read_hdf(spectraldata, key = \"binaries\")"
   ]
  },
  {
   "cell_type": "code",
   "execution_count": 10,
   "id": "01909d0f",
   "metadata": {},
   "outputs": [],
   "source": [
    "#defining locations\n",
    "\n",
    "python_codes = '/Users/malina/python_codes/'\n",
    "spectraldata = \"spectral_templates_data_version_june20.h5\"\n",
    "singles = pd.read_hdf(python_codes + spectraldata , key='singles')\n",
    "binaries = pd.read_hdf(python_codes + spectraldata, key = 'binaries')\n",
    "wavelengths = pd.read_hdf(python_codes + spectraldata , key= 'wavegrid')"
   ]
  },
  {
   "cell_type": "code",
   "execution_count": 11,
   "id": "e7b5136e",
   "metadata": {},
   "outputs": [
    {
     "name": "stdout",
     "output_type": "stream",
     "text": [
      "       flux_0    flux_1    flux_2    flux_3    flux_4    flux_5    flux_6  \\\n",
      "0    0.494552  0.566051  0.614045  0.661532  0.686862  0.693291  0.702654   \n",
      "1    0.634512  0.657556  0.714886  0.740784  0.703573  0.701638  0.724311   \n",
      "2    0.493893  0.550069  0.571380  0.647315  0.666165  0.634119  0.608750   \n",
      "3    0.527926  0.576912  0.620860  0.613389  0.629185  0.647721  0.653567   \n",
      "4    0.462815  0.535964  0.581080  0.607863  0.694902  0.748792  0.615324   \n",
      "..        ...       ...       ...       ...       ...       ...       ...   \n",
      "431 -0.004027 -0.007743 -0.004455  0.005451  0.001937 -0.002612  0.002762   \n",
      "432  0.008489  0.009103 -0.001436  0.010861  0.008182  0.012516  0.011853   \n",
      "433 -0.004778  0.078588  0.011728 -0.005535  0.033752  0.007601 -0.034531   \n",
      "434  0.073008  0.009225 -0.005804 -0.039170 -0.014236 -0.015112  0.038132   \n",
      "435  0.001837 -0.014860 -0.004494  0.012385 -0.003599 -0.001110  0.012853   \n",
      "\n",
      "       flux_7    flux_8    flux_9  ...  flux_433  flux_434  flux_435  \\\n",
      "0    0.703600  0.686852  0.701040  ...  0.215337  0.215931  0.205811   \n",
      "1    0.699457  0.721232  0.737424  ...  0.206600  0.201257  0.200105   \n",
      "2    0.651115  0.648178  0.600103  ...  0.229087  0.207245  0.208434   \n",
      "3    0.651127  0.645000  0.683485  ...  0.157152  0.158078  0.160547   \n",
      "4    0.624720  0.617972  0.661705  ...  0.241278  0.246377  0.241199   \n",
      "..        ...       ...       ...  ...       ...       ...       ...   \n",
      "431  0.003820  0.011900  0.006834  ...  0.001825  0.003611  0.000533   \n",
      "432  0.010578  0.003773  0.018182  ... -0.001485 -0.002331 -0.003116   \n",
      "433 -0.006146 -0.020120  0.007291  ...  0.002653  0.000853  0.002269   \n",
      "434 -0.001542 -0.009924  0.014488  ...  0.011270  0.002495 -0.008254   \n",
      "435 -0.004229  0.009560 -0.000443  ... -0.005154  0.004652 -0.013720   \n",
      "\n",
      "     flux_436  flux_437  flux_438  flux_439  flux_440  spectral_type  \\\n",
      "0    0.202409  0.200154  0.205162  0.200159  0.202379           16.0   \n",
      "1    0.205926  0.200983  0.208295  0.216014  0.224778           12.0   \n",
      "2    0.211384  0.202791  0.202994  0.216542  0.211448           15.0   \n",
      "3    0.151297  0.149293  0.144747  0.160000  0.148471           17.0   \n",
      "4    0.262611  0.224629  0.229004  0.243447  0.241497           13.0   \n",
      "..        ...       ...       ...       ...       ...            ...   \n",
      "431  0.003529  0.002783  0.006177  0.002361  0.000314           38.0   \n",
      "432  0.000461  0.004334  0.003893  0.004213  0.000512           38.0   \n",
      "433 -0.005126  0.019522 -0.002011 -0.015760  0.007481           37.0   \n",
      "434 -0.004863  0.001008  0.001313  0.001250  0.006463           38.0   \n",
      "435  0.006558  0.003448  0.006827  0.007462 -0.007571           39.0   \n",
      "\n",
      "                  object_name  \n",
      "0     2MASS J16002535-2644060  \n",
      "1     2MASS J17252029-0024508  \n",
      "2     2MASS J01532750+3631482  \n",
      "3    WISE J141143.25-452418.3  \n",
      "4     2MASS J19445221-0831036  \n",
      "..                        ...  \n",
      "431  WISE J025409.51+022358.6  \n",
      "432    2MASSI J0415195-093506  \n",
      "433  WISE J132233.64-234016.8  \n",
      "434  WISE J222623.05+044004.0  \n",
      "435  UGPS J072227.51-054031.2  \n",
      "\n",
      "[436 rows x 443 columns]\n"
     ]
    }
   ],
   "source": [
    "print(singles)"
   ]
  },
  {
   "cell_type": "code",
   "execution_count": 12,
   "id": "65e39398",
   "metadata": {},
   "outputs": [],
   "source": [
    "#draw any number of binaries from data\n",
    "\n",
    "def draw_random_binaries_stars(n=400):\n",
    "    binaries = pd.read_hdf(python_codes+spectraldata, key='binaries')\n",
    "    binaries = binaries.sample(n)\n",
    "    return binaries"
   ]
  },
  {
   "cell_type": "code",
   "execution_count": 13,
   "id": "911bb051",
   "metadata": {},
   "outputs": [],
   "source": [
    "df_binaries= draw_random_binaries_stars(n=400)"
   ]
  },
  {
   "cell_type": "code",
   "execution_count": 14,
   "id": "7884e329",
   "metadata": {},
   "outputs": [
    {
     "name": "stdout",
     "output_type": "stream",
     "text": [
      "          flux_0    flux_1    flux_2    flux_3    flux_4        flux_5  \\\n",
      "107642  0.011081  0.003436  0.016142  0.012184  0.022270  7.281500e-03   \n",
      "13321   0.266197  0.329251  0.424645  0.464836  0.503595  5.487876e-01   \n",
      "70062   0.101194  0.110558  0.109467  0.117754  0.126754  1.279868e-01   \n",
      "31343   0.213955  0.238340  0.226224  0.282070  0.297282  3.210550e-01   \n",
      "99438   0.017469  0.050816  0.033335  0.037388  0.017224 -1.102278e-14   \n",
      "...          ...       ...       ...       ...       ...           ...   \n",
      "27940   0.194770  0.211455  0.246362  0.299772  0.341877  3.607744e-01   \n",
      "62214   0.090344  0.077593  0.085455  0.105542  0.105734  1.315283e-01   \n",
      "56712   0.102998  0.106865  0.119871  0.130157  0.147147  1.673522e-01   \n",
      "8372    0.375303  0.427225  0.503249  0.543427  0.564745  5.413624e-01   \n",
      "106075 -0.005222 -0.020252  0.029270 -0.008645 -0.011612  2.747520e-02   \n",
      "\n",
      "          flux_6    flux_7    flux_8    flux_9  ...  flux_434  flux_435  \\\n",
      "107642  0.007790  0.000888  0.005926  0.022256  ...  0.012242  0.028829   \n",
      "13321   0.512354  0.507774  0.503899  0.486963  ...  0.212244  0.204993   \n",
      "70062   0.134738  0.147886  0.156136  0.160292  ...  0.486325  0.473272   \n",
      "31343   0.355730  0.370990  0.340578  0.320285  ...  0.259379  0.256092   \n",
      "99438   0.005266  0.037839  0.028011  0.032375  ...  0.049220  0.051537   \n",
      "...          ...       ...       ...       ...  ...       ...       ...   \n",
      "27940   0.354250  0.345482  0.351305  0.357545  ...  0.294004  0.287829   \n",
      "62214   0.153234  0.146610  0.137438  0.161843  ...  0.320712  0.322049   \n",
      "56712   0.180600  0.178904  0.178526  0.189898  ...  0.384520  0.376476   \n",
      "8372    0.545514  0.549862  0.571308  0.579204  ...  0.175774  0.171285   \n",
      "106075  0.017469 -0.020632  0.033266  0.053969  ...  0.011674  0.015311   \n",
      "\n",
      "        flux_436  flux_437  flux_438  flux_439  flux_440  primary_type  \\\n",
      "107642  0.017952  0.017590  0.028909  0.032881  0.021076          35.0   \n",
      "13321   0.205331  0.201132  0.198938  0.197998  0.199146          17.0   \n",
      "70062   0.470890  0.473788  0.477649  0.476623  0.469159          24.0   \n",
      "31343   0.242414  0.251967  0.260105  0.251160  0.248328          19.0   \n",
      "99438   0.056442  0.062929  0.059014  0.070445  0.054455          33.0   \n",
      "...          ...       ...       ...       ...       ...           ...   \n",
      "27940   0.282435  0.280549  0.278109  0.284635  0.277225          19.0   \n",
      "62214   0.322684  0.325074  0.327351  0.324864  0.322718          23.0   \n",
      "56712   0.387896  0.388015  0.380551  0.368832  0.364847          23.0   \n",
      "8372    0.165165  0.167611  0.162364  0.168259  0.167478          17.0   \n",
      "106075  0.005860  0.012022  0.006716  0.016950  0.005278          35.0   \n",
      "\n",
      "        secondary_type  system_type  \n",
      "107642            36.0         35.0  \n",
      "13321             20.0         17.0  \n",
      "70062             27.0         27.0  \n",
      "31343             37.0         19.0  \n",
      "99438             35.0         33.0  \n",
      "...                ...          ...  \n",
      "27940             28.0         19.0  \n",
      "62214             25.0         23.0  \n",
      "56712             26.0         26.0  \n",
      "8372              18.0         17.0  \n",
      "106075            35.0         35.0  \n",
      "\n",
      "[400 rows x 444 columns]\n"
     ]
    }
   ],
   "source": [
    "print(df_binaries)"
   ]
  },
  {
   "cell_type": "code",
   "execution_count": 15,
   "id": "5d065fe8",
   "metadata": {},
   "outputs": [],
   "source": [
    "df_singles = singles\n",
    "df_wavelengths = wavelengths"
   ]
  },
  {
   "cell_type": "code",
   "execution_count": 16,
   "id": "aa7f47d2",
   "metadata": {},
   "outputs": [
    {
     "name": "stdout",
     "output_type": "stream",
     "text": [
      "     wavelength\n",
      "0      0.801448\n",
      "1      0.804246\n",
      "2      0.807063\n",
      "3      0.809900\n",
      "4      0.812757\n",
      "..          ...\n",
      "436    2.387420\n",
      "437    2.390210\n",
      "438    2.393000\n",
      "439    2.395790\n",
      "440    2.398570\n",
      "\n",
      "[441 rows x 1 columns]\n"
     ]
    }
   ],
   "source": [
    "print(df_wavelengths)"
   ]
  },
  {
   "cell_type": "code",
   "execution_count": 17,
   "id": "4b3d619f",
   "metadata": {},
   "outputs": [
    {
     "data": {
      "text/plain": [
       "<AxesSubplot:ylabel='Frequency'>"
      ]
     },
     "execution_count": 17,
     "metadata": {},
     "output_type": "execute_result"
    },
    {
     "data": {
      "image/png": "[encoded data removed]",
      "text/plain": [
       "<Figure size 432x288 with 1 Axes>"
      ]
     },
     "metadata": {
      "needs_background": "light"
     },
     "output_type": "display_data"
    }
   ],
   "source": [
    "# visualizing data\n",
    "\n",
    "df_singles.spectral_type.plot(kind = 'hist')"
   ]
  },
  {
   "cell_type": "code",
   "execution_count": 18,
   "id": "94eeeddd",
   "metadata": {},
   "outputs": [
    {
     "data": {
      "text/plain": [
       "<AxesSubplot:ylabel='Frequency'>"
      ]
     },
     "execution_count": 18,
     "metadata": {},
     "output_type": "execute_result"
    },
    {
     "data": {
      "image/png": "[encoded data removed]",
      "text/plain": [
       "<Figure size 432x288 with 1 Axes>"
      ]
     },
     "metadata": {
      "needs_background": "light"
     },
     "output_type": "display_data"
    }
   ],
   "source": [
    "df_binaries.system_type.plot(kind = 'hist')"
   ]
  },
  {
   "cell_type": "code",
   "execution_count": 19,
   "id": "7385f9f0",
   "metadata": {},
   "outputs": [
    {
     "name": "stdout",
     "output_type": "stream",
     "text": [
      "          flux_0    flux_1    flux_2    flux_3    flux_4        flux_5  \\\n",
      "107642  0.011081  0.003436  0.016142  0.012184  0.022270  7.281500e-03   \n",
      "13321   0.266197  0.329251  0.424645  0.464836  0.503595  5.487876e-01   \n",
      "70062   0.101194  0.110558  0.109467  0.117754  0.126754  1.279868e-01   \n",
      "31343   0.213955  0.238340  0.226224  0.282070  0.297282  3.210550e-01   \n",
      "99438   0.017469  0.050816  0.033335  0.037388  0.017224 -1.102278e-14   \n",
      "...          ...       ...       ...       ...       ...           ...   \n",
      "27940   0.194770  0.211455  0.246362  0.299772  0.341877  3.607744e-01   \n",
      "62214   0.090344  0.077593  0.085455  0.105542  0.105734  1.315283e-01   \n",
      "56712   0.102998  0.106865  0.119871  0.130157  0.147147  1.673522e-01   \n",
      "8372    0.375303  0.427225  0.503249  0.543427  0.564745  5.413624e-01   \n",
      "106075 -0.005222 -0.020252  0.029270 -0.008645 -0.011612  2.747520e-02   \n",
      "\n",
      "          flux_6    flux_7    flux_8    flux_9  ...  flux_434  flux_435  \\\n",
      "107642  0.007790  0.000888  0.005926  0.022256  ...  0.012242  0.028829   \n",
      "13321   0.512354  0.507774  0.503899  0.486963  ...  0.212244  0.204993   \n",
      "70062   0.134738  0.147886  0.156136  0.160292  ...  0.486325  0.473272   \n",
      "31343   0.355730  0.370990  0.340578  0.320285  ...  0.259379  0.256092   \n",
      "99438   0.005266  0.037839  0.028011  0.032375  ...  0.049220  0.051537   \n",
      "...          ...       ...       ...       ...  ...       ...       ...   \n",
      "27940   0.354250  0.345482  0.351305  0.357545  ...  0.294004  0.287829   \n",
      "62214   0.153234  0.146610  0.137438  0.161843  ...  0.320712  0.322049   \n",
      "56712   0.180600  0.178904  0.178526  0.189898  ...  0.384520  0.376476   \n",
      "8372    0.545514  0.549862  0.571308  0.579204  ...  0.175774  0.171285   \n",
      "106075  0.017469 -0.020632  0.033266  0.053969  ...  0.011674  0.015311   \n",
      "\n",
      "        flux_436  flux_437  flux_438  flux_439  flux_440  primary_type  \\\n",
      "107642  0.017952  0.017590  0.028909  0.032881  0.021076          35.0   \n",
      "13321   0.205331  0.201132  0.198938  0.197998  0.199146          17.0   \n",
      "70062   0.470890  0.473788  0.477649  0.476623  0.469159          24.0   \n",
      "31343   0.242414  0.251967  0.260105  0.251160  0.248328          19.0   \n",
      "99438   0.056442  0.062929  0.059014  0.070445  0.054455          33.0   \n",
      "...          ...       ...       ...       ...       ...           ...   \n",
      "27940   0.282435  0.280549  0.278109  0.284635  0.277225          19.0   \n",
      "62214   0.322684  0.325074  0.327351  0.324864  0.322718          23.0   \n",
      "56712   0.387896  0.388015  0.380551  0.368832  0.364847          23.0   \n",
      "8372    0.165165  0.167611  0.162364  0.168259  0.167478          17.0   \n",
      "106075  0.005860  0.012022  0.006716  0.016950  0.005278          35.0   \n",
      "\n",
      "        secondary_type  spectral_type  \n",
      "107642            36.0           35.0  \n",
      "13321             20.0           17.0  \n",
      "70062             27.0           27.0  \n",
      "31343             37.0           19.0  \n",
      "99438             35.0           33.0  \n",
      "...                ...            ...  \n",
      "27940             28.0           19.0  \n",
      "62214             25.0           23.0  \n",
      "56712             26.0           26.0  \n",
      "8372              18.0           17.0  \n",
      "106075            35.0           35.0  \n",
      "\n",
      "[400 rows x 444 columns]\n"
     ]
    }
   ],
   "source": [
    "# change column names\n",
    "\n",
    "df_newbinaries = df_binaries.rename(columns = {'system_type':'spectral_type'})\n",
    "print(df_newbinaries)"
   ]
  },
  {
   "cell_type": "code",
   "execution_count": 13,
   "id": "c65c23fb",
   "metadata": {},
   "outputs": [
    {
     "data": {
      "text/plain": [
       "False"
      ]
     },
     "execution_count": 13,
     "metadata": {},
     "output_type": "execute_result"
    }
   ],
   "source": [
    "#checking for NANS\n",
    "\n",
    "df_newbinaries.isnull().values.any()"
   ]
  },
  {
   "cell_type": "code",
   "execution_count": 35,
   "id": "662581f1",
   "metadata": {},
   "outputs": [
    {
     "name": "stdout",
     "output_type": "stream",
     "text": [
      "          flux_0    flux_1    flux_2    flux_3    flux_4        flux_5  \\\n",
      "107642  0.011081  0.003436  0.016142  0.012184  0.022270  7.281500e-03   \n",
      "13321   0.266197  0.329251  0.424645  0.464836  0.503595  5.487876e-01   \n",
      "70062   0.101194  0.110558  0.109467  0.117754  0.126754  1.279868e-01   \n",
      "31343   0.213955  0.238340  0.226224  0.282070  0.297282  3.210550e-01   \n",
      "99438   0.017469  0.050816  0.033335  0.037388  0.017224 -1.102278e-14   \n",
      "...          ...       ...       ...       ...       ...           ...   \n",
      "27940   0.194770  0.211455  0.246362  0.299772  0.341877  3.607744e-01   \n",
      "62214   0.090344  0.077593  0.085455  0.105542  0.105734  1.315283e-01   \n",
      "56712   0.102998  0.106865  0.119871  0.130157  0.147147  1.673522e-01   \n",
      "8372    0.375303  0.427225  0.503249  0.543427  0.564745  5.413624e-01   \n",
      "106075 -0.005222 -0.020252  0.029270 -0.008645 -0.011612  2.747520e-02   \n",
      "\n",
      "          flux_6    flux_7    flux_8    flux_9  ...  flux_431  flux_432  \\\n",
      "107642  0.007790  0.000888  0.005926  0.022256  ...  0.006292  0.004220   \n",
      "13321   0.512354  0.507774  0.503899  0.486963  ...  0.218594  0.203687   \n",
      "70062   0.134738  0.147886  0.156136  0.160292  ...  0.502446  0.501297   \n",
      "31343   0.355730  0.370990  0.340578  0.320285  ...  0.281818  0.270752   \n",
      "99438   0.005266  0.037839  0.028011  0.032375  ...  0.040263  0.051837   \n",
      "...          ...       ...       ...       ...  ...       ...       ...   \n",
      "27940   0.354250  0.345482  0.351305  0.357545  ...  0.307341  0.296419   \n",
      "62214   0.153234  0.146610  0.137438  0.161843  ...  0.339692  0.333219   \n",
      "56712   0.180600  0.178904  0.178526  0.189898  ...  0.398294  0.405342   \n",
      "8372    0.545514  0.549862  0.571308  0.579204  ...  0.180598  0.181237   \n",
      "106075  0.017469 -0.020632  0.033266  0.053969  ...  0.012127  0.014239   \n",
      "\n",
      "        flux_433  flux_434  flux_435  flux_436  flux_437  flux_438  flux_439  \\\n",
      "107642  0.009874  0.012242  0.028829  0.017952  0.017590  0.028909  0.032881   \n",
      "13321   0.213432  0.212244  0.204993  0.205331  0.201132  0.198938  0.197998   \n",
      "70062   0.495901  0.486325  0.473272  0.470890  0.473788  0.477649  0.476623   \n",
      "31343   0.258165  0.259379  0.256092  0.242414  0.251967  0.260105  0.251160   \n",
      "99438   0.038251  0.049220  0.051537  0.056442  0.062929  0.059014  0.070445   \n",
      "...          ...       ...       ...       ...       ...       ...       ...   \n",
      "27940   0.298864  0.294004  0.287829  0.282435  0.280549  0.278109  0.284635   \n",
      "62214   0.332667  0.320712  0.322049  0.322684  0.325074  0.327351  0.324864   \n",
      "56712   0.401678  0.384520  0.376476  0.387896  0.388015  0.380551  0.368832   \n",
      "8372    0.177882  0.175774  0.171285  0.165165  0.167611  0.162364  0.168259   \n",
      "106075  0.010103  0.011674  0.015311  0.005860  0.012022  0.006716  0.016950   \n",
      "\n",
      "        flux_440  \n",
      "107642  0.021076  \n",
      "13321   0.199146  \n",
      "70062   0.469159  \n",
      "31343   0.248328  \n",
      "99438   0.054455  \n",
      "...          ...  \n",
      "27940   0.277225  \n",
      "62214   0.322718  \n",
      "56712   0.364847  \n",
      "8372    0.167478  \n",
      "106075  0.005278  \n",
      "\n",
      "[400 rows x 441 columns]\n"
     ]
    }
   ],
   "source": [
    "df_flux = df_newbinaries.drop('primary_type', axis = 1).drop('spectral_type', axis = 1).drop('secondary_type', axis = 1)\n",
    "print(df_flux)"
   ]
  },
  {
   "cell_type": "code",
   "execution_count": 37,
   "id": "20f66676",
   "metadata": {},
   "outputs": [
    {
     "name": "stdout",
     "output_type": "stream",
     "text": [
      "[[ 0.11641633 -0.02496556 -0.28965263 ... -0.21082609  0.03928121\n",
      "   0.05197054]\n",
      " [ 0.02194182  0.10741534  0.09674473 ... -0.07777271 -0.14622271\n",
      "  -0.07361457]\n",
      " [-0.171174   -0.08948578  0.08025462 ... -0.02962797  0.04008112\n",
      "   0.00674405]\n",
      " ...\n",
      " [-0.09607558  0.09070867  0.09572836 ...  0.08909309  0.05922081\n",
      "  -0.13159436]\n",
      " [ 0.01524194  0.03680168  0.09515165 ... -0.06328733 -0.06050019\n",
      "  -0.09329549]\n",
      " [-0.11762089 -0.10332388 -0.10529824 ...  0.07296116 -0.043855\n",
      "   0.2723062 ]]\n"
     ]
    }
   ],
   "source": [
    "# adding noise\n",
    "\n",
    "n1, n2 = 0, 0.1\n",
    "noise = np.random.normal(n1, n2, [400, 441]) \n",
    "print(noise)"
   ]
  },
  {
   "cell_type": "code",
   "execution_count": 38,
   "id": "d60c3152",
   "metadata": {},
   "outputs": [
    {
     "name": "stdout",
     "output_type": "stream",
     "text": [
      "          flux_0    flux_1    flux_2    flux_3    flux_4    flux_5    flux_6  \\\n",
      "107642  0.127498 -0.021530 -0.273511  0.183523  0.055911 -0.080545 -0.237266   \n",
      "13321   0.288139  0.436667  0.521389  0.537337  0.553316  0.464745  0.412005   \n",
      "70062  -0.069980  0.021072  0.189721  0.153894  0.180276  0.157888  0.138098   \n",
      "31343   0.161574  0.333118  0.232341  0.196156  0.357116  0.091771  0.400862   \n",
      "99438   0.035634  0.147561 -0.008879 -0.070835  0.127021  0.047656  0.050028   \n",
      "...          ...       ...       ...       ...       ...       ...       ...   \n",
      "27940   0.137639  0.154319  0.280926  0.235853  0.314216  0.305022  0.289480   \n",
      "62214   0.218526  0.078710  0.122460  0.124071  0.062302  0.037002  0.057156   \n",
      "56712   0.006922  0.197574  0.215600  0.020432 -0.070672  0.212444  0.051935   \n",
      "8372    0.390545  0.464026  0.598401  0.407354  0.425414  0.593776  0.816579   \n",
      "106075 -0.122843 -0.123576 -0.076028  0.006357  0.076021  0.211873  0.120650   \n",
      "\n",
      "          flux_7    flux_8    flux_9  ...  flux_431  flux_432  flux_433  \\\n",
      "107642 -0.083326 -0.133830  0.053003  ... -0.107060  0.031555  0.131332   \n",
      "13321   0.450457  0.601815  0.487442  ...  0.210965  0.141157  0.170985   \n",
      "70062   0.208111  0.042538  0.183552  ...  0.717040  0.448492  0.471293   \n",
      "31343   0.479778  0.425600  0.359147  ...  0.248765  0.320118  0.448001   \n",
      "99438   0.074143 -0.081470  0.027375  ...  0.126895  0.094495  0.051422   \n",
      "...          ...       ...       ...  ...       ...       ...       ...   \n",
      "27940   0.375980  0.423005  0.360412  ...  0.120275  0.339420  0.403300   \n",
      "62214   0.139039  0.137400  0.241069  ...  0.365550  0.146807  0.322706   \n",
      "56712  -0.007880  0.038132  0.262523  ...  0.360323  0.296773  0.471262   \n",
      "8372    0.697321  0.624025  0.715708  ...  0.144802  0.175671  0.248769   \n",
      "106075 -0.110480  0.117695 -0.068552  ... -0.036347  0.041552 -0.072113   \n",
      "\n",
      "        flux_434  flux_435  flux_436  flux_437  flux_438  flux_439  flux_440  \n",
      "107642  0.244723 -0.005271  0.284940 -0.199106 -0.181917  0.072162  0.073046  \n",
      "13321   0.115563  0.251220  0.129570  0.184636  0.121166  0.051775  0.125532  \n",
      "70062   0.514345  0.391206  0.464554  0.534353  0.448021  0.516704  0.475903  \n",
      "31343   0.300319  0.289214  0.284757  0.255952  0.223195  0.383751  0.150080  \n",
      "99438  -0.054804  0.247385  0.092107  0.290391  0.135686  0.147022  0.207799  \n",
      "...          ...       ...       ...       ...       ...       ...       ...  \n",
      "27940   0.116526  0.324354  0.198761  0.210826  0.198193  0.214267  0.219743  \n",
      "62214   0.160105  0.211137  0.463957  0.455452  0.397690  0.345203  0.236370  \n",
      "56712   0.492909  0.224047  0.511915  0.273938  0.469644  0.428053  0.233253  \n",
      "8372    0.176766  0.315471  0.074628  0.265603  0.099077  0.107759  0.074182  \n",
      "106075  0.036741 -0.031349 -0.157569  0.038445  0.079677 -0.026905  0.277585  \n",
      "\n",
      "[400 rows x 441 columns]\n"
     ]
    }
   ],
   "source": [
    "noisyflux = df_flux + noise\n",
    "print(noisyflux)"
   ]
  },
  {
   "cell_type": "code",
   "execution_count": 39,
   "id": "27147bfa",
   "metadata": {},
   "outputs": [],
   "source": [
    "df_singles[\"binary\"] = 0\n",
    "df_newbinaries[\"binary\"] = 1"
   ]
  },
  {
   "cell_type": "code",
   "execution_count": 40,
   "id": "fa7ba53b",
   "metadata": {},
   "outputs": [
    {
     "name": "stdout",
     "output_type": "stream",
     "text": [
      "          flux_0    flux_1    flux_2    flux_3    flux_4    flux_5    flux_6  \\\n",
      "0       0.494552  0.566051  0.614045  0.661532  0.686862  0.693291  0.702654   \n",
      "1       0.634512  0.657556  0.714886  0.740784  0.703573  0.701638  0.724311   \n",
      "2       0.493893  0.550069  0.571380  0.647315  0.666165  0.634119  0.608750   \n",
      "3       0.527926  0.576912  0.620860  0.613389  0.629185  0.647721  0.653567   \n",
      "4       0.462815  0.535964  0.581080  0.607863  0.694902  0.748792  0.615324   \n",
      "...          ...       ...       ...       ...       ...       ...       ...   \n",
      "27940   0.194770  0.211455  0.246362  0.299772  0.341877  0.360774  0.354250   \n",
      "62214   0.090344  0.077593  0.085455  0.105542  0.105734  0.131528  0.153234   \n",
      "56712   0.102998  0.106865  0.119871  0.130157  0.147147  0.167352  0.180600   \n",
      "8372    0.375303  0.427225  0.503249  0.543427  0.564745  0.541362  0.545514   \n",
      "106075 -0.005222 -0.020252  0.029270 -0.008645 -0.011612  0.027475  0.017469   \n",
      "\n",
      "          flux_7    flux_8    flux_9  ...  flux_436  flux_437  flux_438  \\\n",
      "0       0.703600  0.686852  0.701040  ...  0.202409  0.200154  0.205162   \n",
      "1       0.699457  0.721232  0.737424  ...  0.205926  0.200983  0.208295   \n",
      "2       0.651115  0.648178  0.600103  ...  0.211384  0.202791  0.202994   \n",
      "3       0.651127  0.645000  0.683485  ...  0.151297  0.149293  0.144747   \n",
      "4       0.624720  0.617972  0.661705  ...  0.262611  0.224629  0.229004   \n",
      "...          ...       ...       ...  ...       ...       ...       ...   \n",
      "27940   0.345482  0.351305  0.357545  ...  0.282435  0.280549  0.278109   \n",
      "62214   0.146610  0.137438  0.161843  ...  0.322684  0.325074  0.327351   \n",
      "56712   0.178904  0.178526  0.189898  ...  0.387896  0.388015  0.380551   \n",
      "8372    0.549862  0.571308  0.579204  ...  0.165165  0.167611  0.162364   \n",
      "106075 -0.020632  0.033266  0.053969  ...  0.005860  0.012022  0.006716   \n",
      "\n",
      "        flux_439  flux_440  spectral_type               object_name  binary  \\\n",
      "0       0.200159  0.202379           16.0   2MASS J16002535-2644060       0   \n",
      "1       0.216014  0.224778           12.0   2MASS J17252029-0024508       0   \n",
      "2       0.216542  0.211448           15.0   2MASS J01532750+3631482       0   \n",
      "3       0.160000  0.148471           17.0  WISE J141143.25-452418.3       0   \n",
      "4       0.243447  0.241497           13.0   2MASS J19445221-0831036       0   \n",
      "...          ...       ...            ...                       ...     ...   \n",
      "27940   0.284635  0.277225           19.0                       NaN       1   \n",
      "62214   0.324864  0.322718           23.0                       NaN       1   \n",
      "56712   0.368832  0.364847           26.0                       NaN       1   \n",
      "8372    0.168259  0.167478           17.0                       NaN       1   \n",
      "106075  0.016950  0.005278           35.0                       NaN       1   \n",
      "\n",
      "        primary_type  secondary_type  \n",
      "0                NaN             NaN  \n",
      "1                NaN             NaN  \n",
      "2                NaN             NaN  \n",
      "3                NaN             NaN  \n",
      "4                NaN             NaN  \n",
      "...              ...             ...  \n",
      "27940           19.0            28.0  \n",
      "62214           23.0            25.0  \n",
      "56712           23.0            26.0  \n",
      "8372            17.0            18.0  \n",
      "106075          35.0            35.0  \n",
      "\n",
      "[836 rows x 446 columns]\n"
     ]
    }
   ],
   "source": [
    "frames = [df_singles, df_newbinaries]\n",
    "result = pd.concat(frames)\n",
    "print(result)"
   ]
  },
  {
   "cell_type": "code",
   "execution_count": 41,
   "id": "c2af26df",
   "metadata": {},
   "outputs": [
    {
     "name": "stdout",
     "output_type": "stream",
     "text": [
      "[[ 4.94552101e-01  5.66050609e-01  6.14045310e-01 ...  2.02379067e-01\n",
      "   1.60000000e+01  0.00000000e+00]\n",
      " [ 6.34512185e-01  6.57555963e-01  7.14885540e-01 ...  2.24777620e-01\n",
      "   1.20000000e+01  0.00000000e+00]\n",
      " [ 4.93893309e-01  5.50069266e-01  5.71380034e-01 ...  2.11448315e-01\n",
      "   1.50000000e+01  0.00000000e+00]\n",
      " ...\n",
      " [ 1.02997548e-01  1.06865172e-01  1.19871304e-01 ...  3.64847157e-01\n",
      "   2.60000000e+01  1.00000000e+00]\n",
      " [ 3.75302894e-01  4.27224516e-01  5.03249491e-01 ...  1.67477988e-01\n",
      "   1.70000000e+01  1.00000000e+00]\n",
      " [-5.22213679e-03 -2.02523497e-02  2.92700637e-02 ...  5.27834290e-03\n",
      "   3.50000000e+01  1.00000000e+00]]\n"
     ]
    }
   ],
   "source": [
    "from sklearn.model_selection import train_test_split\n",
    "RSEED = 42  \n",
    "\n",
    "feats = list(result.columns)\n",
    "feats.remove('object_name')\n",
    "feats.remove('primary_type')\n",
    "feats.remove('secondary_type')\n",
    "\n",
    "x0 = np.array(result[feats])\n",
    "y0 = np.array(result['binary'])\n",
    "\n",
    "print(x0)"
   ]
  },
  {
   "cell_type": "code",
   "execution_count": 42,
   "id": "82a4a2cd",
   "metadata": {},
   "outputs": [
    {
     "name": "stdout",
     "output_type": "stream",
     "text": [
      "[0 0 0 0 0 0 0 0 0 0 0 0 0 0 0 0 0 0 0 0 0 0 0 0 0 0 0 0 0 0 0 0 0 0 0 0 0\n",
      " 0 0 0 0 0 0 0 0 0 0 0 0 0 0 0 0 0 0 0 0 0 0 0 0 0 0 0 0 0 0 0 0 0 0 0 0 0\n",
      " 0 0 0 0 0 0 0 0 0 0 0 0 0 0 0 0 0 0 0 0 0 0 0 0 0 0 0 0 0 0 0 0 0 0 0 0 0\n",
      " 0 0 0 0 0 0 0 0 0 0 0 0 0 0 0 0 0 0 0 0 0 0 0 0 0 0 0 0 0 0 0 0 0 0 0 0 0\n",
      " 0 0 0 0 0 0 0 0 0 0 0 0 0 0 0 0 0 0 0 0 0 0 0 0 0 0 0 0 0 0 0 0 0 0 0 0 0\n",
      " 0 0 0 0 0 0 0 0 0 0 0 0 0 0 0 0 0 0 0 0 0 0 0 0 0 0 0 0 0 0 0 0 0 0 0 0 0\n",
      " 0 0 0 0 0 0 0 0 0 0 0 0 0 0 0 0 0 0 0 0 0 0 0 0 0 0 0 0 0 0 0 0 0 0 0 0 0\n",
      " 0 0 0 0 0 0 0 0 0 0 0 0 0 0 0 0 0 0 0 0 0 0 0 0 0 0 0 0 0 0 0 0 0 0 0 0 0\n",
      " 0 0 0 0 0 0 0 0 0 0 0 0 0 0 0 0 0 0 0 0 0 0 0 0 0 0 0 0 0 0 0 0 0 0 0 0 0\n",
      " 0 0 0 0 0 0 0 0 0 0 0 0 0 0 0 0 0 0 0 0 0 0 0 0 0 0 0 0 0 0 0 0 0 0 0 0 0\n",
      " 0 0 0 0 0 0 0 0 0 0 0 0 0 0 0 0 0 0 0 0 0 0 0 0 0 0 0 0 0 0 0 0 0 0 0 0 0\n",
      " 0 0 0 0 0 0 0 0 0 0 0 0 0 0 0 0 0 0 0 0 0 0 0 0 0 0 0 0 0 1 1 1 1 1 1 1 1\n",
      " 1 1 1 1 1 1 1 1 1 1 1 1 1 1 1 1 1 1 1 1 1 1 1 1 1 1 1 1 1 1 1 1 1 1 1 1 1\n",
      " 1 1 1 1 1 1 1 1 1 1 1 1 1 1 1 1 1 1 1 1 1 1 1 1 1 1 1 1 1 1 1 1 1 1 1 1 1\n",
      " 1 1 1 1 1 1 1 1 1 1 1 1 1 1 1 1 1 1 1 1 1 1 1 1 1 1 1 1 1 1 1 1 1 1 1 1 1\n",
      " 1 1 1 1 1 1 1 1 1 1 1 1 1 1 1 1 1 1 1 1 1 1 1 1 1 1 1 1 1 1 1 1 1 1 1 1 1\n",
      " 1 1 1 1 1 1 1 1 1 1 1 1 1 1 1 1 1 1 1 1 1 1 1 1 1 1 1 1 1 1 1 1 1 1 1 1 1\n",
      " 1 1 1 1 1 1 1 1 1 1 1 1 1 1 1 1 1 1 1 1 1 1 1 1 1 1 1 1 1 1 1 1 1 1 1 1 1\n",
      " 1 1 1 1 1 1 1 1 1 1 1 1 1 1 1 1 1 1 1 1 1 1 1 1 1 1 1 1 1 1 1 1 1 1 1 1 1\n",
      " 1 1 1 1 1 1 1 1 1 1 1 1 1 1 1 1 1 1 1 1 1 1 1 1 1 1 1 1 1 1 1 1 1 1 1 1 1\n",
      " 1 1 1 1 1 1 1 1 1 1 1 1 1 1 1 1 1 1 1 1 1 1 1 1 1 1 1 1 1 1 1 1 1 1 1 1 1\n",
      " 1 1 1 1 1 1 1 1 1 1 1 1 1 1 1 1 1 1 1 1 1 1 1 1 1 1 1 1 1 1 1 1 1 1 1 1 1\n",
      " 1 1 1 1 1 1 1 1 1 1 1 1 1 1 1 1 1 1 1 1 1 1]\n"
     ]
    }
   ],
   "source": [
    "print(y0)"
   ]
  },
  {
   "cell_type": "code",
   "execution_count": 43,
   "id": "8abf6862",
   "metadata": {},
   "outputs": [],
   "source": [
    "x_train, x_test, y_train, y_test = train_test_split(x0,y0,train_size=0.75, random_state=RSEED, shuffle=True)"
   ]
  },
  {
   "cell_type": "code",
   "execution_count": 44,
   "id": "adccfb5a",
   "metadata": {},
   "outputs": [
    {
     "data": {
      "text/plain": [
       "RandomForestClassifier(n_estimators=50)"
      ]
     },
     "execution_count": 44,
     "metadata": {},
     "output_type": "execute_result"
    }
   ],
   "source": [
    "RF = RandomForestClassifier(n_estimators = 50)\n",
    "RF.fit(x_train, y_train)"
   ]
  },
  {
   "cell_type": "code",
   "execution_count": 45,
   "id": "db02d354",
   "metadata": {},
   "outputs": [
    {
     "name": "stdout",
     "output_type": "stream",
     "text": [
      "The raw features produce a model with precision ~0.8857 !\n"
     ]
    }
   ],
   "source": [
    "from sklearn.metrics import precision_score\n",
    "\n",
    "test_preds = RF.predict(x_test)\n",
    "\n",
    "print(\"The raw features produce a model with precision ~{:.4f} !\".format(precision_score(y_test, test_preds)))"
   ]
  },
  {
   "cell_type": "code",
   "execution_count": 46,
   "id": "19153519",
   "metadata": {},
   "outputs": [
    {
     "name": "stdout",
     "output_type": "stream",
     "text": [
      "              precision    recall  f1-score   support\n",
      "\n",
      "           0       0.88      0.88      0.88       104\n",
      "           1       0.89      0.89      0.89       105\n",
      "\n",
      "    accuracy                           0.89       209\n",
      "   macro avg       0.89      0.89      0.89       209\n",
      "weighted avg       0.89      0.89      0.89       209\n",
      "\n"
     ]
    }
   ],
   "source": [
    "from sklearn.metrics import classification_report\n",
    "\n",
    "print(classification_report(y_test, test_preds))"
   ]
  },
  {
   "cell_type": "code",
   "execution_count": 47,
   "id": "1fb69872",
   "metadata": {},
   "outputs": [
    {
     "data": {
      "text/plain": [
       "array([[92, 12],\n",
       "       [12, 93]])"
      ]
     },
     "execution_count": 47,
     "metadata": {},
     "output_type": "execute_result"
    }
   ],
   "source": [
    "from sklearn.metrics import confusion_matrix\n",
    "confusion_matrix(y_test, test_preds)"
   ]
  },
  {
   "cell_type": "code",
   "execution_count": null,
   "id": "8f657c2c",
   "metadata": {},
   "outputs": [],
   "source": []
  }
 ],
 "metadata": {
  "kernelspec": {
   "display_name": "Python 3 (ipykernel)",
   "language": "python",
   "name": "python3"
  },
  "language_info": {
   "codemirror_mode": {
    "name": "ipython",
    "version": 3
   },
   "file_extension": ".py",
   "mimetype": "text/x-python",
   "name": "python",
   "nbconvert_exporter": "python",
   "pygments_lexer": "ipython3",
   "version": "3.9.7"
  }
 },
 "nbformat": 4,
 "nbformat_minor": 5
}
